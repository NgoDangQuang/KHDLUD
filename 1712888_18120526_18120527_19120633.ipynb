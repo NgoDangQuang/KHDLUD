{
 "cells": [
  {
   "attachments": {},
   "cell_type": "markdown",
   "metadata": {},
   "source": [
    "# FINAL PROJECT\n",
    "# CSC14115 - KHOA HỌC DỮ LIỆU VÀ ỨNG DỤNG\n",
    "\n",
    "Giảng viên: Lê Ngọc Thành\n",
    "\n",
    "GVHD: Nguyễn Thị Thu Hằng"
   ]
  },
  {
   "attachments": {},
   "cell_type": "markdown",
   "metadata": {},
   "source": [
    "Thông tin thành viên:\n",
    "1. Nguyễn Đăng Quang 18120527\n",
    "2. Ngô Đăng Quang 18120526\n",
    "3. Nguyễn Anh Quốc 19120633 \n",
    "4. Nguyễn Đình Tuyên 1712888"
   ]
  },
  {
   "attachments": {},
   "cell_type": "markdown",
   "metadata": {},
   "source": [
    "# Import"
   ]
  },
  {
   "cell_type": "code",
   "execution_count": 1,
   "metadata": {},
   "outputs": [
    {
     "name": "stdout",
     "output_type": "stream",
     "text": [
      "Requirement already satisfied: ttth-mds5-analyzer in c:\\users\\dell\\appdata\\local\\programs\\python\\python310\\lib\\site-packages (0.1.8)\n",
      "Requirement already satisfied: underthesea in c:\\users\\dell\\appdata\\local\\programs\\python\\python310\\lib\\site-packages (from ttth-mds5-analyzer) (6.2.0)\n",
      "Requirement already satisfied: regex in c:\\users\\dell\\appdata\\local\\programs\\python\\python310\\lib\\site-packages (from ttth-mds5-analyzer) (2023.3.23)\n",
      "Requirement already satisfied: scipy in c:\\users\\dell\\appdata\\local\\programs\\python\\python310\\lib\\site-packages (from ttth-mds5-analyzer) (1.7.2)\n",
      "Requirement already satisfied: seaborn in c:\\users\\dell\\appdata\\local\\programs\\python\\python310\\lib\\site-packages (from ttth-mds5-analyzer) (0.11.2)\n",
      "Requirement already satisfied: matplotlib in c:\\users\\dell\\appdata\\local\\programs\\python\\python310\\lib\\site-packages (from ttth-mds5-analyzer) (3.4.3)\n",
      "Requirement already satisfied: statsmodels in c:\\users\\dell\\appdata\\local\\programs\\python\\python310\\lib\\site-packages (from ttth-mds5-analyzer) (0.13.5)\n",
      "Requirement already satisfied: setuptools in c:\\users\\dell\\appdata\\local\\programs\\python\\python310\\lib\\site-packages (from ttth-mds5-analyzer) (57.4.0)\n",
      "Requirement already satisfied: pandas in c:\\users\\dell\\appdata\\local\\programs\\python\\python310\\lib\\site-packages (from ttth-mds5-analyzer) (1.3.5)\n",
      "Requirement already satisfied: cycler>=0.10 in c:\\users\\dell\\appdata\\local\\programs\\python\\python310\\lib\\site-packages (from matplotlib->ttth-mds5-analyzer) (0.11.0)\n",
      "Requirement already satisfied: kiwisolver>=1.0.1 in c:\\users\\dell\\appdata\\local\\programs\\python\\python310\\lib\\site-packages (from matplotlib->ttth-mds5-analyzer) (1.3.2)\n",
      "Requirement already satisfied: numpy>=1.16 in c:\\users\\dell\\appdata\\local\\programs\\python\\python310\\lib\\site-packages (from matplotlib->ttth-mds5-analyzer) (1.22.4)\n",
      "Requirement already satisfied: pillow>=6.2.0 in c:\\users\\dell\\appdata\\local\\programs\\python\\python310\\lib\\site-packages (from matplotlib->ttth-mds5-analyzer) (8.4.0)\n",
      "Requirement already satisfied: pyparsing>=2.2.1 in c:\\users\\dell\\appdata\\local\\programs\\python\\python310\\lib\\site-packages (from matplotlib->ttth-mds5-analyzer) (3.0.9)\n",
      "Requirement already satisfied: python-dateutil>=2.7 in c:\\users\\dell\\appdata\\local\\programs\\python\\python310\\lib\\site-packages (from matplotlib->ttth-mds5-analyzer) (2.8.2)\n",
      "Requirement already satisfied: pytz>=2017.3 in c:\\users\\dell\\appdata\\local\\programs\\python\\python310\\lib\\site-packages (from pandas->ttth-mds5-analyzer) (2021.3)\n",
      "Requirement already satisfied: packaging>=21.3 in c:\\users\\dell\\appdata\\local\\programs\\python\\python310\\lib\\site-packages (from statsmodels->ttth-mds5-analyzer) (21.3)\n",
      "Requirement already satisfied: patsy>=0.5.2 in c:\\users\\dell\\appdata\\local\\programs\\python\\python310\\lib\\site-packages (from statsmodels->ttth-mds5-analyzer) (0.5.3)\n",
      "Requirement already satisfied: underthesea-core==1.0.0 in c:\\users\\dell\\appdata\\local\\programs\\python\\python310\\lib\\site-packages (from underthesea->ttth-mds5-analyzer) (1.0.0)\n",
      "Requirement already satisfied: requests in c:\\users\\dell\\appdata\\local\\programs\\python\\python310\\lib\\site-packages (from underthesea->ttth-mds5-analyzer) (2.26.0)\n",
      "Requirement already satisfied: scikit-learn in c:\\users\\dell\\appdata\\local\\programs\\python\\python310\\lib\\site-packages (from underthesea->ttth-mds5-analyzer) (1.2.0)\n",
      "Requirement already satisfied: nltk in c:\\users\\dell\\appdata\\local\\programs\\python\\python310\\lib\\site-packages (from underthesea->ttth-mds5-analyzer) (3.8.1)\n",
      "Requirement already satisfied: python-crfsuite>=0.9.6 in c:\\users\\dell\\appdata\\local\\programs\\python\\python310\\lib\\site-packages (from underthesea->ttth-mds5-analyzer) (0.9.9)\n",
      "Requirement already satisfied: Click>=6.0 in c:\\users\\dell\\appdata\\local\\programs\\python\\python310\\lib\\site-packages (from underthesea->ttth-mds5-analyzer) (8.1.3)\n",
      "Requirement already satisfied: joblib in c:\\users\\dell\\appdata\\local\\programs\\python\\python310\\lib\\site-packages (from underthesea->ttth-mds5-analyzer) (1.2.0)\n",
      "Requirement already satisfied: PyYAML in c:\\users\\dell\\appdata\\local\\programs\\python\\python310\\lib\\site-packages (from underthesea->ttth-mds5-analyzer) (6.0)\n",
      "Requirement already satisfied: tqdm in c:\\users\\dell\\appdata\\local\\programs\\python\\python310\\lib\\site-packages (from underthesea->ttth-mds5-analyzer) (4.64.0)\n",
      "Requirement already satisfied: colorama in c:\\users\\dell\\appdata\\local\\programs\\python\\python310\\lib\\site-packages (from Click>=6.0->underthesea->ttth-mds5-analyzer) (0.4.4)\n",
      "Requirement already satisfied: six in c:\\users\\dell\\appdata\\local\\programs\\python\\python310\\lib\\site-packages (from patsy>=0.5.2->statsmodels->ttth-mds5-analyzer) (1.16.0)\n",
      "Requirement already satisfied: certifi>=2017.4.17 in c:\\users\\dell\\appdata\\local\\programs\\python\\python310\\lib\\site-packages (from requests->underthesea->ttth-mds5-analyzer) (2021.10.8)\n",
      "Requirement already satisfied: idna<4,>=2.5 in c:\\users\\dell\\appdata\\local\\programs\\python\\python310\\lib\\site-packages (from requests->underthesea->ttth-mds5-analyzer) (3.3)\n",
      "Requirement already satisfied: charset-normalizer~=2.0.0 in c:\\users\\dell\\appdata\\local\\programs\\python\\python310\\lib\\site-packages (from requests->underthesea->ttth-mds5-analyzer) (2.0.9)\n",
      "Requirement already satisfied: urllib3<1.27,>=1.21.1 in c:\\users\\dell\\appdata\\local\\programs\\python\\python310\\lib\\site-packages (from requests->underthesea->ttth-mds5-analyzer) (1.26.7)\n",
      "Requirement already satisfied: threadpoolctl>=2.0.0 in c:\\users\\dell\\appdata\\local\\programs\\python\\python310\\lib\\site-packages (from scikit-learn->underthesea->ttth-mds5-analyzer) (3.0.0)\n",
      "Note: you may need to restart the kernel to use updated packages.\n"
     ]
    },
    {
     "name": "stderr",
     "output_type": "stream",
     "text": [
      "\n",
      "[notice] A new release of pip available: 22.3.1 -> 23.1\n",
      "[notice] To update, run: python.exe -m pip install --upgrade pip\n"
     ]
    }
   ],
   "source": [
    "%pip install ttth-mds5-analyzer"
   ]
  },
  {
   "cell_type": "code",
   "execution_count": 51,
   "metadata": {},
   "outputs": [],
   "source": [
    "import numpy as np\n",
    "import pandas as pd\n",
    "import matplotlib.pyplot as plt\n",
    "import seaborn as sns\n",
    "import plotly.express as px\n",
    "from scipy import stats as st\n",
    "\n",
    "sns.set_theme()\n",
    "\n",
    "import warnings\n",
    "warnings.simplefilter(\"ignore\", category = RuntimeWarning)\n",
    "warnings.simplefilter(\"ignore\", category = UserWarning)\n",
    "warnings.simplefilter(\"ignore\", category = FutureWarning)"
   ]
  },
  {
   "attachments": {},
   "cell_type": "markdown",
   "metadata": {},
   "source": [
    "# **A. Mô tả và đặc điểm**\n",
    "- Bộ dữ liệu chứa các vụ bạo lực súng đạn ở Hoa Kỳ trong khoảng thời gian từ tháng 1/2014 đến thang 9/2022.\n",
    "\n",
    "- Nguồn: https://www.kaggle.com/datasets/greysky/us-gun-violence-dataset\n",
    "\n",
    "- Dữ liệu gồm 452787 dòng và 7 cột bao gồm các thông tin của vụ xả súng (ngày, địa chỉ, thiệt hại về người,...)\n",
    "\n",
    "                \n",
    "## I. Ý nghĩa các cột:\n",
    "| Trường | Kiểu dữ liệu  | Ý nghĩa |\n",
    "|                                -|            -|-|\n",
    "Incident_ID (index)            |  int64      | Mã sự cố\n",
    "Incident_Date                  |  object -> datetime64 | Ngày xảy ra sự cố\n",
    "State_Code                     |  object     | Mã tiểu bang hoặc lãnh thổ ở Hoa Kỳ\n",
    "City_Or_County\t\t           |  object     | Tên các thành phố hoặc quận diễn ra bạo lực tại Hoa Kỳ\n",
    "Address                        |  object     | Địa điểm xảy ra\n",
    "Killed                         |  int64      | Số người thiệt mạng\n",
    "Injured                        |  int64      | Số người bị thương\n",
    "Total                          |  int64      | Thiệt mạng + Bị thương\n",
    "Year                           |  int64      | Năm diễn ra\n",
    "Quarter                        |  int64      | Quý\n",
    "Month                          |  int64      | Tháng diễn ra\n",
    "Day_Of_Week                    |  object     | Ngày (trong tuần) diễn ra\n",
    "State_Name                     |  object     | Tên tiểu bang tương ứng với `State_Code`\n",
    "\n",
    "\n",
    "## II. Ý nghĩa các dòng: \n",
    "\n",
    "- Mỗi dòng là thông tin của từng ứng viên, trong đó mỗi ô của dòng là dữ liệu tương ứng với cột của ô đó. \n",
    "\n",
    "- Không có vấn đề với các dòng có ý nghĩa khác nhau. \n",
    "\n",
    "\n",
    "# **B. Khám phá và phân tích**\n",
    "\n",
    "## I. Khám phá dữ liệu\n",
    "\n",
    "### 1. Thu thập dữ liệu"
   ]
  },
  {
   "cell_type": "code",
   "execution_count": 3,
   "metadata": {},
   "outputs": [
    {
     "data": {
      "text/plain": [
       "(452787, 6)"
      ]
     },
     "execution_count": 3,
     "metadata": {},
     "output_type": "execute_result"
    }
   ],
   "source": [
    "df = pd.read_csv(\"incident.csv\",index_col=\"Incident_ID\",parse_dates=[\"Incident_Date\"])\n",
    "df.shape"
   ]
  },
  {
   "cell_type": "code",
   "execution_count": 4,
   "metadata": {},
   "outputs": [
    {
     "data": {
      "text/html": [
       "<div>\n",
       "<style scoped>\n",
       "    .dataframe tbody tr th:only-of-type {\n",
       "        vertical-align: middle;\n",
       "    }\n",
       "\n",
       "    .dataframe tbody tr th {\n",
       "        vertical-align: top;\n",
       "    }\n",
       "\n",
       "    .dataframe thead th {\n",
       "        text-align: right;\n",
       "    }\n",
       "</style>\n",
       "<table border=\"1\" class=\"dataframe\">\n",
       "  <thead>\n",
       "    <tr style=\"text-align: right;\">\n",
       "      <th></th>\n",
       "      <th>Incident_Date</th>\n",
       "      <th>State_Code</th>\n",
       "      <th>City_Or_County</th>\n",
       "      <th>Address</th>\n",
       "      <th>Killed</th>\n",
       "      <th>Injured</th>\n",
       "    </tr>\n",
       "    <tr>\n",
       "      <th>Incident_ID</th>\n",
       "      <th></th>\n",
       "      <th></th>\n",
       "      <th></th>\n",
       "      <th></th>\n",
       "      <th></th>\n",
       "      <th></th>\n",
       "    </tr>\n",
       "  </thead>\n",
       "  <tbody>\n",
       "    <tr>\n",
       "      <th>92114</th>\n",
       "      <td>2014-01-01</td>\n",
       "      <td>KY</td>\n",
       "      <td>Lexington</td>\n",
       "      <td>Sixth St and Elm Tree Ln</td>\n",
       "      <td>0</td>\n",
       "      <td>1</td>\n",
       "    </tr>\n",
       "    <tr>\n",
       "      <th>92117</th>\n",
       "      <td>2014-01-01</td>\n",
       "      <td>KY</td>\n",
       "      <td>Cynthiana</td>\n",
       "      <td>US 62</td>\n",
       "      <td>0</td>\n",
       "      <td>1</td>\n",
       "    </tr>\n",
       "    <tr>\n",
       "      <th>92119</th>\n",
       "      <td>2014-01-01</td>\n",
       "      <td>KY</td>\n",
       "      <td>Louisville</td>\n",
       "      <td>S 38th St and W Broadway</td>\n",
       "      <td>0</td>\n",
       "      <td>1</td>\n",
       "    </tr>\n",
       "    <tr>\n",
       "      <th>92125</th>\n",
       "      <td>2014-01-01</td>\n",
       "      <td>OK</td>\n",
       "      <td>Lawton</td>\n",
       "      <td>NW Sheridan Rd  and NW Pollard Ave</td>\n",
       "      <td>0</td>\n",
       "      <td>0</td>\n",
       "    </tr>\n",
       "    <tr>\n",
       "      <th>92129</th>\n",
       "      <td>2014-01-01</td>\n",
       "      <td>OK</td>\n",
       "      <td>Okmulgee</td>\n",
       "      <td>19700 block of Sharp Rd</td>\n",
       "      <td>0</td>\n",
       "      <td>2</td>\n",
       "    </tr>\n",
       "  </tbody>\n",
       "</table>\n",
       "</div>"
      ],
      "text/plain": [
       "            Incident_Date State_Code City_Or_County  \\\n",
       "Incident_ID                                           \n",
       "92114          2014-01-01         KY      Lexington   \n",
       "92117          2014-01-01         KY      Cynthiana   \n",
       "92119          2014-01-01         KY     Louisville   \n",
       "92125          2014-01-01         OK         Lawton   \n",
       "92129          2014-01-01         OK       Okmulgee   \n",
       "\n",
       "                                        Address  Killed  Injured  \n",
       "Incident_ID                                                       \n",
       "92114                  Sixth St and Elm Tree Ln       0        1  \n",
       "92117                                     US 62       0        1  \n",
       "92119                  S 38th St and W Broadway       0        1  \n",
       "92125        NW Sheridan Rd  and NW Pollard Ave       0        0  \n",
       "92129                   19700 block of Sharp Rd       0        2  "
      ]
     },
     "execution_count": 4,
     "metadata": {},
     "output_type": "execute_result"
    }
   ],
   "source": [
    "df.head(5)"
   ]
  },
  {
   "cell_type": "code",
   "execution_count": 5,
   "metadata": {},
   "outputs": [
    {
     "data": {
      "text/plain": [
       "Incident_Date     datetime64[ns]\n",
       "State_Code                object\n",
       "City_Or_County            object\n",
       "Address                   object\n",
       "Killed                     int64\n",
       "Injured                    int64\n",
       "dtype: object"
      ]
     },
     "execution_count": 5,
     "metadata": {},
     "output_type": "execute_result"
    }
   ],
   "source": [
    "df.dtypes"
   ]
  },
  {
   "attachments": {},
   "cell_type": "markdown",
   "metadata": {},
   "source": [
    "### 2. Làm sạch dữ liệu"
   ]
  },
  {
   "attachments": {},
   "cell_type": "markdown",
   "metadata": {},
   "source": [
    "- Vì dữ liệu của ta chỉ thu thập tới tháng 9 năm 2022 để công bằng cho các năm, tháng, quý giữa các năm với câu hỏi này ta chỉ sử dụng dữ liệu từ 2022 về trước."
   ]
  },
  {
   "cell_type": "code",
   "execution_count": 6,
   "metadata": {},
   "outputs": [],
   "source": [
    "df = df.query('`Incident_Date` < 2022')"
   ]
  },
  {
   "attachments": {},
   "cell_type": "markdown",
   "metadata": {},
   "source": [
    "- Tạo trường `Total` với các giá trị là tổng của `Killed` và `Injured`."
   ]
  },
  {
   "cell_type": "code",
   "execution_count": 7,
   "metadata": {},
   "outputs": [],
   "source": [
    "df['Total'] = df['Killed'] + df['Injured']"
   ]
  },
  {
   "attachments": {},
   "cell_type": "markdown",
   "metadata": {},
   "source": [
    "- Ta có thể trích xuất `Incident_Date` thành các trường thể hiện năm, quý, tháng, ngày trong tuần tương ứng."
   ]
  },
  {
   "cell_type": "code",
   "execution_count": 8,
   "metadata": {},
   "outputs": [],
   "source": [
    "df.Incident_Date = df.Incident_Date.astype('datetime64')\n",
    "df[\"Year\"] = df['Incident_Date'].dt.year\n",
    "df[\"Quarter\"] = df['Incident_Date'].dt.quarter\n",
    "df[\"Month\"] = df['Incident_Date'].dt.month\n",
    "df['Day_Of_Week'] = df['Incident_Date'].dt.day_name()"
   ]
  },
  {
   "cell_type": "code",
   "execution_count": 9,
   "metadata": {},
   "outputs": [
    {
     "data": {
      "text/plain": [
       "Killed     int64\n",
       "Injured    int64\n",
       "Total      int64\n",
       "Year       int64\n",
       "Quarter    int64\n",
       "Month      int64\n",
       "dtype: object"
      ]
     },
     "execution_count": 9,
     "metadata": {},
     "output_type": "execute_result"
    }
   ],
   "source": [
    "df.select_dtypes(include=np.number).dtypes"
   ]
  },
  {
   "attachments": {},
   "cell_type": "markdown",
   "metadata": {},
   "source": [
    "- Có sự trùng lặp giữa các dòng."
   ]
  },
  {
   "cell_type": "code",
   "execution_count": 10,
   "metadata": {},
   "outputs": [
    {
     "data": {
      "text/plain": [
       "True"
      ]
     },
     "execution_count": 10,
     "metadata": {},
     "output_type": "execute_result"
    }
   ],
   "source": [
    "have_duplicated_rows = np.any(df.duplicated())\n",
    "have_duplicated_rows"
   ]
  },
  {
   "attachments": {},
   "cell_type": "markdown",
   "metadata": {},
   "source": [
    "- Xóa các dòng bị trùng lặp."
   ]
  },
  {
   "cell_type": "code",
   "execution_count": 11,
   "metadata": {},
   "outputs": [],
   "source": [
    "df.drop_duplicates(keep='first',inplace=True)"
   ]
  },
  {
   "attachments": {},
   "cell_type": "markdown",
   "metadata": {},
   "source": [
    "- Tên và kiểu dữ liệu của các trường sau khi bổ sung và chỉnh sửa."
   ]
  },
  {
   "cell_type": "code",
   "execution_count": 12,
   "metadata": {},
   "outputs": [
    {
     "data": {
      "text/plain": [
       "Incident_Date     datetime64[ns]\n",
       "State_Code                object\n",
       "City_Or_County            object\n",
       "Address                   object\n",
       "Killed                     int64\n",
       "Injured                    int64\n",
       "Total                      int64\n",
       "Year                       int64\n",
       "Quarter                    int64\n",
       "Month                      int64\n",
       "Day_Of_Week               object\n",
       "dtype: object"
      ]
     },
     "execution_count": 12,
     "metadata": {},
     "output_type": "execute_result"
    }
   ],
   "source": [
    "df.dtypes"
   ]
  },
  {
   "attachments": {},
   "cell_type": "markdown",
   "metadata": {},
   "source": [
    "### 3. Mô tả thống kê"
   ]
  },
  {
   "attachments": {},
   "cell_type": "markdown",
   "metadata": {},
   "source": [
    "#### 3.1. Biến liên tục"
   ]
  },
  {
   "cell_type": "code",
   "execution_count": 13,
   "metadata": {},
   "outputs": [
    {
     "data": {
      "text/html": [
       "<div>\n",
       "<style scoped>\n",
       "    .dataframe tbody tr th:only-of-type {\n",
       "        vertical-align: middle;\n",
       "    }\n",
       "\n",
       "    .dataframe tbody tr th {\n",
       "        vertical-align: top;\n",
       "    }\n",
       "\n",
       "    .dataframe thead th {\n",
       "        text-align: right;\n",
       "    }\n",
       "</style>\n",
       "<table border=\"1\" class=\"dataframe\">\n",
       "  <thead>\n",
       "    <tr style=\"text-align: right;\">\n",
       "      <th></th>\n",
       "      <th>Killed</th>\n",
       "      <th>Injured</th>\n",
       "      <th>Total</th>\n",
       "    </tr>\n",
       "  </thead>\n",
       "  <tbody>\n",
       "    <tr>\n",
       "      <th>missing_ratio</th>\n",
       "      <td>0.00</td>\n",
       "      <td>0.00</td>\n",
       "      <td>0.00</td>\n",
       "    </tr>\n",
       "    <tr>\n",
       "      <th>count</th>\n",
       "      <td>418104.00</td>\n",
       "      <td>418104.00</td>\n",
       "      <td>418104.00</td>\n",
       "    </tr>\n",
       "    <tr>\n",
       "      <th>mean</th>\n",
       "      <td>0.30</td>\n",
       "      <td>0.58</td>\n",
       "      <td>0.88</td>\n",
       "    </tr>\n",
       "    <tr>\n",
       "      <th>std</th>\n",
       "      <td>0.55</td>\n",
       "      <td>1.02</td>\n",
       "      <td>1.13</td>\n",
       "    </tr>\n",
       "    <tr>\n",
       "      <th>min</th>\n",
       "      <td>0.00</td>\n",
       "      <td>0.00</td>\n",
       "      <td>0.00</td>\n",
       "    </tr>\n",
       "    <tr>\n",
       "      <th>25%</th>\n",
       "      <td>0.00</td>\n",
       "      <td>0.00</td>\n",
       "      <td>0.00</td>\n",
       "    </tr>\n",
       "    <tr>\n",
       "      <th>50%</th>\n",
       "      <td>0.00</td>\n",
       "      <td>0.00</td>\n",
       "      <td>1.00</td>\n",
       "    </tr>\n",
       "    <tr>\n",
       "      <th>75%</th>\n",
       "      <td>1.00</td>\n",
       "      <td>1.00</td>\n",
       "      <td>1.00</td>\n",
       "    </tr>\n",
       "    <tr>\n",
       "      <th>max</th>\n",
       "      <td>59.00</td>\n",
       "      <td>441.00</td>\n",
       "      <td>500.00</td>\n",
       "    </tr>\n",
       "  </tbody>\n",
       "</table>\n",
       "</div>"
      ],
      "text/plain": [
       "                  Killed    Injured      Total\n",
       "missing_ratio       0.00       0.00       0.00\n",
       "count          418104.00  418104.00  418104.00\n",
       "mean                0.30       0.58       0.88\n",
       "std                 0.55       1.02       1.13\n",
       "min                 0.00       0.00       0.00\n",
       "25%                 0.00       0.00       0.00\n",
       "50%                 0.00       0.00       1.00\n",
       "75%                 1.00       1.00       1.00\n",
       "max                59.00     441.00     500.00"
      ]
     },
     "execution_count": 13,
     "metadata": {},
     "output_type": "execute_result"
    }
   ],
   "source": [
    "num_col = ['Killed', 'Injured', 'Total']\n",
    "\n",
    "summary_df = pd.DataFrame(df[num_col].describe().round(2))\n",
    "missing_ratio = pd.DataFrame(df[num_col].isna().sum() * 100/ len(df)).T.round(1)\n",
    "missing_ratio = missing_ratio.set_axis(['missing_ratio'])\n",
    "summary_df = pd.concat([missing_ratio, summary_df])\n",
    "summary_df"
   ]
  },
  {
   "attachments": {},
   "cell_type": "markdown",
   "metadata": {},
   "source": [
    "### 3.2. Biến phân loại"
   ]
  },
  {
   "cell_type": "code",
   "execution_count": 14,
   "metadata": {},
   "outputs": [
    {
     "data": {
      "text/html": [
       "<div>\n",
       "<style scoped>\n",
       "    .dataframe tbody tr th:only-of-type {\n",
       "        vertical-align: middle;\n",
       "    }\n",
       "\n",
       "    .dataframe tbody tr th {\n",
       "        vertical-align: top;\n",
       "    }\n",
       "\n",
       "    .dataframe thead th {\n",
       "        text-align: right;\n",
       "    }\n",
       "</style>\n",
       "<table border=\"1\" class=\"dataframe\">\n",
       "  <thead>\n",
       "    <tr style=\"text-align: right;\">\n",
       "      <th></th>\n",
       "      <th>State_Code</th>\n",
       "      <th>City_Or_County</th>\n",
       "      <th>Address</th>\n",
       "      <th>Day_Of_Week</th>\n",
       "    </tr>\n",
       "  </thead>\n",
       "  <tbody>\n",
       "    <tr>\n",
       "      <th>count</th>\n",
       "      <td>418104</td>\n",
       "      <td>418104</td>\n",
       "      <td>403866</td>\n",
       "      <td>418104</td>\n",
       "    </tr>\n",
       "    <tr>\n",
       "      <th>unique</th>\n",
       "      <td>51</td>\n",
       "      <td>14100</td>\n",
       "      <td>349738</td>\n",
       "      <td>7</td>\n",
       "    </tr>\n",
       "    <tr>\n",
       "      <th>top</th>\n",
       "      <td>IL</td>\n",
       "      <td>Chicago</td>\n",
       "      <td>300 Indiana Ave</td>\n",
       "      <td>Sunday</td>\n",
       "    </tr>\n",
       "    <tr>\n",
       "      <th>freq</th>\n",
       "      <td>33006</td>\n",
       "      <td>21710</td>\n",
       "      <td>132</td>\n",
       "      <td>66949</td>\n",
       "    </tr>\n",
       "    <tr>\n",
       "      <th>missing_ratios</th>\n",
       "      <td>0.0</td>\n",
       "      <td>0.0</td>\n",
       "      <td>3.405373</td>\n",
       "      <td>0.0</td>\n",
       "    </tr>\n",
       "    <tr>\n",
       "      <th>missing_values</th>\n",
       "      <td>0.0</td>\n",
       "      <td>0.0</td>\n",
       "      <td>14238.0</td>\n",
       "      <td>0.0</td>\n",
       "    </tr>\n",
       "  </tbody>\n",
       "</table>\n",
       "</div>"
      ],
      "text/plain": [
       "               State_Code City_Or_County          Address Day_Of_Week\n",
       "count              418104         418104           403866      418104\n",
       "unique                 51          14100           349738           7\n",
       "top                    IL        Chicago  300 Indiana Ave      Sunday\n",
       "freq                33006          21710              132       66949\n",
       "missing_ratios        0.0            0.0         3.405373         0.0\n",
       "missing_values        0.0            0.0          14238.0         0.0"
      ]
     },
     "execution_count": 14,
     "metadata": {},
     "output_type": "execute_result"
    }
   ],
   "source": [
    "def missing_ratios(x):\n",
    "    return (x.isna().mean()*100)\n",
    "def missing_values(x):\n",
    "    return (x.isna().sum().T)\n",
    "\n",
    "cat_col = df.select_dtypes(include=\"object\").columns.to_list()\n",
    "cat_df_info = df.select_dtypes(include=\"object\").agg(func=[missing_ratios, missing_values])\n",
    "cat_df_info = pd.concat([df[cat_col].describe(), cat_df_info])\n",
    "\n",
    "cat_df_info"
   ]
  },
  {
   "attachments": {},
   "cell_type": "markdown",
   "metadata": {},
   "source": [
    "- Đối với cột `Address`, ta có thể hiểu rằng các giá trị thiếu tức là không rõ địa chỉ ở đâu. Ta sẽ không xóa các dòng này mà mặc định là nạn nhân đã mất tích (không tìm thấy thi thể, không rõ chết hay bị thương)."
   ]
  },
  {
   "attachments": {},
   "cell_type": "markdown",
   "metadata": {},
   "source": [
    "## II. Phân tích dữ liệu\n",
    "\n",
    "##### - Việc tìm hiểu, thu thập, xử lý và chuẩn bị dữ liệu là các công đoạn rất quan trọng trong các dự án Khoa Học Dữ Liệu. Chất lượng của dữ liệu ảnh hưởng trực tiếp đến dự án. Nếu chúng ta làm tốt ở các công đoạn này thì sẽ dẫn đến kết quả tốt ở các công đoạn sau và ngược lại.\n",
    "\n",
    "- Một trong những việc quan trọng cần làm ở công đoạn nói trên là **phân tích đơn biến và đa biến**:\n",
    "    \n",
    "   - Để hiểu thêm về từng biến (thuộc tính) đơn lẻ trong bộ dữ liệu, chúng ta cần thực hiện ` phân tích đơn biến `.\n",
    "\n",
    "   - Còn khi muốn biết các biến (thuộc tính) có liên quan đến nhau hay không, chúng ta cần thực hiện ` phân tích đa biến `.\n",
    "\n",
    "##### - `TTTH_Analyzer` là gói thư viện hỗ trợ môn MDS5 (tên khóa học Data Pre-processing and Analysis online) thực hiện các bước phân tích đơn biến và đa biến và kiếm tra 1 số tình trạng của các biến:\n",
    "\n",
    "   - Phân tích đơn biến (phân loại và liên tục).\n",
    "\n",
    "   - Phân tích đa biến (phân loại vs phân loại, phân loại vs liên tục).\n",
    "\n",
    "   - Phân tích tình trạng outlier của các biến phân loại.\n",
    "    \n",
    "   - Phân tích tình trạng mất cân bằng của biến phân loại output.\n",
    "\n",
    "##### - Xem thêm tại: https://github.com/liemvt2008/mds5-analyzer"
   ]
  },
  {
   "cell_type": "code",
   "execution_count": 15,
   "metadata": {},
   "outputs": [],
   "source": [
    "from analysis.analyzer import TTTH_Analyzer\n",
    "analyzer = TTTH_Analyzer()"
   ]
  },
  {
   "attachments": {},
   "cell_type": "markdown",
   "metadata": {},
   "source": [
    "### 1. Phân tích đơn biến\n",
    "#### 1.1. Phân loại: \n",
    "- Phân tích đơn biến với biến phân loại thông qua:\n",
    "\n",
    "    - Count values\n",
    "\n",
    "    - Barchart"
   ]
  },
  {
   "cell_type": "code",
   "execution_count": 16,
   "metadata": {},
   "outputs": [
    {
     "name": "stdout",
     "output_type": "stream",
     "text": [
      "Class count of City_Or_County:\n",
      "\n",
      "==========\n",
      "Chicago                    21710\n",
      "Philadelphia                9049\n",
      "Baltimore                   7128\n",
      "Houston                     5581\n",
      "Washington                  5229\n",
      "                           ...  \n",
      "Bemidji (Ten Lake)             1\n",
      "Lake Linden                    1\n",
      "Hawkins (county)               1\n",
      "Saint Louis (St. Louis)        1\n",
      "Maybee                         1\n",
      "Name: City_Or_County, Length: 14100, dtype: int64\n",
      "==========\n"
     ]
    },
    {
     "data": {
      "image/png": "[encoded data removed]",
      "text/plain": [
       "<Figure size 576x432 with 1 Axes>"
      ]
     },
     "metadata": {},
     "output_type": "display_data"
    },
    {
     "name": "stdout",
     "output_type": "stream",
     "text": [
      "Class count of Address:\n",
      "\n",
      "==========\n",
      "300 Indiana Ave               132\n",
      "Main St                       121\n",
      "Main Street                   103\n",
      "I-10                           86\n",
      "I-95                           83\n",
      "                             ... \n",
      "731 E Rochambeau Dr             1\n",
      "32162 Mount Gideon Rd           1\n",
      "3800 block of Miramonte Pl      1\n",
      "7000 block of Linworth Rd       1\n",
      "32390-32498 Red Hill Rd         1\n",
      "Name: Address, Length: 349738, dtype: int64\n",
      "==========\n"
     ]
    },
    {
     "data": {
      "image/png": "[encoded data removed]",
      "text/plain": [
       "<Figure size 576x432 with 1 Axes>"
      ]
     },
     "metadata": {},
     "output_type": "display_data"
    },
    {
     "name": "stdout",
     "output_type": "stream",
     "text": [
      "Class count of Day_Of_Week:\n",
      "\n",
      "==========\n",
      "Sunday       66949\n",
      "Saturday     64825\n",
      "Monday       58236\n",
      "Friday       57592\n",
      "Wednesday    57292\n",
      "Tuesday      57108\n",
      "Thursday     56102\n",
      "Name: Day_Of_Week, dtype: int64\n",
      "==========\n"
     ]
    },
    {
     "data": {
      "image/png": "[encoded data removed]",
      "text/plain": [
       "<Figure size 576x432 with 1 Axes>"
      ]
     },
     "metadata": {},
     "output_type": "display_data"
    }
   ],
   "source": [
    "# ID not included\n",
    "for col in cat_col[1:]:\n",
    "    analyzer.analyze_category_variable(col, df)"
   ]
  },
  {
   "attachments": {},
   "cell_type": "markdown",
   "metadata": {},
   "source": [
    "#### 1.2. Liên tục\n",
    "\n",
    "- Phân tích đơn biến với biến liên tục thông qua :\n",
    "\n",
    "   - Các thông tin thống kê: Mean, Median, Mode, Min, Max và Range\n",
    "\n",
    "   - Các thông tin thống kê liên quan đến sự phân tán dữ liệu như : Range, Q1, Q3 , IQR, phương sai, độ lệch, độ nhọn của phân phối\n",
    "\n",
    "   - Trực quan hóa bằng histogram và boxplot\n",
    "\n",
    "#### Nhóm không sử dụng `analyzer.analyze_numeric_variable(...)` vì dữ liệu cũng như đồ thị trực quan trả về vẫn chưa đầy đủ và cụ thể lắm, nên nhóm sẽ tự thiết kế lại."
   ]
  },
  {
   "attachments": {},
   "cell_type": "markdown",
   "metadata": {},
   "source": [
    "- Ý nghĩa các dòng: \n",
    "\n",
    "    * `\"missing_ratios: \"` tỉ lệ giá trị thiếu\n",
    "    * `\"count\": ` số lượng giá trị \n",
    "\n",
    "    * `\"mean\": ` giá trị trung bình\n",
    "    * `\"std\": ` độ lệch chuẩn\n",
    "    * `\"min\": ` giá trị nhỏ nhất\n",
    "    * `\"25%\": ` giá trị phân vị 25%\n",
    "    * `\"50%\": ` giá trị phân vị 50%\n",
    "    * `\"75%\": ` giá trị phân vị 75%\n",
    "    * `\"max\": ` giá trị lớn nhất\n",
    "    * `\"iqr\": ` độ trải giữa\n",
    "    * `\"modes\": ` giá trị xuất hiện nhiều nhất\n",
    "    * `\"range\": ` max - min\n",
    "    * `\"skew\": ` độ lệch\n",
    "    * `\"var\": ` phương sai\n",
    "    * `\"kurtosis\": ` độ nhọn phân phối"
   ]
  },
  {
   "cell_type": "code",
   "execution_count": 53,
   "metadata": {},
   "outputs": [
    {
     "data": {
      "text/html": [
       "<div>\n",
       "<style scoped>\n",
       "    .dataframe tbody tr th:only-of-type {\n",
       "        vertical-align: middle;\n",
       "    }\n",
       "\n",
       "    .dataframe tbody tr th {\n",
       "        vertical-align: top;\n",
       "    }\n",
       "\n",
       "    .dataframe thead th {\n",
       "        text-align: right;\n",
       "    }\n",
       "</style>\n",
       "<table border=\"1\" class=\"dataframe\">\n",
       "  <thead>\n",
       "    <tr style=\"text-align: right;\">\n",
       "      <th></th>\n",
       "      <th>Killed</th>\n",
       "      <th>Injured</th>\n",
       "      <th>Total</th>\n",
       "    </tr>\n",
       "  </thead>\n",
       "  <tbody>\n",
       "    <tr>\n",
       "      <th>missing_ratio</th>\n",
       "      <td>0.0</td>\n",
       "      <td>0.0</td>\n",
       "      <td>0.0</td>\n",
       "    </tr>\n",
       "    <tr>\n",
       "      <th>count</th>\n",
       "      <td>418104.0</td>\n",
       "      <td>418104.0</td>\n",
       "      <td>418104.0</td>\n",
       "    </tr>\n",
       "    <tr>\n",
       "      <th>mean</th>\n",
       "      <td>0.3</td>\n",
       "      <td>0.58</td>\n",
       "      <td>0.88</td>\n",
       "    </tr>\n",
       "    <tr>\n",
       "      <th>std</th>\n",
       "      <td>0.55</td>\n",
       "      <td>1.02</td>\n",
       "      <td>1.13</td>\n",
       "    </tr>\n",
       "    <tr>\n",
       "      <th>min</th>\n",
       "      <td>0.0</td>\n",
       "      <td>0.0</td>\n",
       "      <td>0.0</td>\n",
       "    </tr>\n",
       "    <tr>\n",
       "      <th>25%</th>\n",
       "      <td>0.0</td>\n",
       "      <td>0.0</td>\n",
       "      <td>0.0</td>\n",
       "    </tr>\n",
       "    <tr>\n",
       "      <th>50%</th>\n",
       "      <td>0.0</td>\n",
       "      <td>0.0</td>\n",
       "      <td>1.0</td>\n",
       "    </tr>\n",
       "    <tr>\n",
       "      <th>75%</th>\n",
       "      <td>1.0</td>\n",
       "      <td>1.0</td>\n",
       "      <td>1.0</td>\n",
       "    </tr>\n",
       "    <tr>\n",
       "      <th>max</th>\n",
       "      <td>59.0</td>\n",
       "      <td>441.0</td>\n",
       "      <td>500.0</td>\n",
       "    </tr>\n",
       "    <tr>\n",
       "      <th>mode</th>\n",
       "      <td>([0], [306029])</td>\n",
       "      <td>([0], [219188])</td>\n",
       "      <td>([1], [238492])</td>\n",
       "    </tr>\n",
       "    <tr>\n",
       "      <th>iqr</th>\n",
       "      <td>1.0</td>\n",
       "      <td>1.0</td>\n",
       "      <td>1.0</td>\n",
       "    </tr>\n",
       "    <tr>\n",
       "      <th>range</th>\n",
       "      <td>59</td>\n",
       "      <td>441</td>\n",
       "      <td>500</td>\n",
       "    </tr>\n",
       "    <tr>\n",
       "      <th>skew</th>\n",
       "      <td>7.167369</td>\n",
       "      <td>195.306181</td>\n",
       "      <td>207.386268</td>\n",
       "    </tr>\n",
       "    <tr>\n",
       "      <th>var</th>\n",
       "      <td>0.301734</td>\n",
       "      <td>1.035581</td>\n",
       "      <td>1.284824</td>\n",
       "    </tr>\n",
       "    <tr>\n",
       "      <th>kurtosis</th>\n",
       "      <td>504.311828</td>\n",
       "      <td>83933.023764</td>\n",
       "      <td>90099.898824</td>\n",
       "    </tr>\n",
       "  </tbody>\n",
       "</table>\n",
       "</div>"
      ],
      "text/plain": [
       "                        Killed          Injured            Total\n",
       "missing_ratio              0.0              0.0              0.0\n",
       "count                 418104.0         418104.0         418104.0\n",
       "mean                       0.3             0.58             0.88\n",
       "std                       0.55             1.02             1.13\n",
       "min                        0.0              0.0              0.0\n",
       "25%                        0.0              0.0              0.0\n",
       "50%                        0.0              0.0              1.0\n",
       "75%                        1.0              1.0              1.0\n",
       "max                       59.0            441.0            500.0\n",
       "mode           ([0], [306029])  ([0], [219188])  ([1], [238492])\n",
       "iqr                        1.0              1.0              1.0\n",
       "range                       59              441              500\n",
       "skew                  7.167369       195.306181       207.386268\n",
       "var                   0.301734         1.035581         1.284824\n",
       "kurtosis            504.311828     83933.023764     90099.898824"
      ]
     },
     "execution_count": 53,
     "metadata": {},
     "output_type": "execute_result"
    }
   ],
   "source": [
    "median = []\n",
    "ranges = []\n",
    "skew = []\n",
    "var = []\n",
    "kurtosis = []\n",
    "iqr = []\n",
    "modes = []\n",
    "num_col = ['Killed', 'Injured', 'Total']\n",
    "\n",
    "# Year & Month & DoW not included\n",
    "for col in num_col:\n",
    "    modes.append(st.mode(df[col]))\n",
    "    iqr.append(df[col].quantile(.75) - df[col].quantile(.25))\n",
    "    ranges.append(df[col].max() - df[col].min())\n",
    "    skew.append(df[col].skew())\n",
    "    var.append(df[col].var())\n",
    "    kurtosis.append(df[col].kurtosis())\n",
    "\n",
    "    \n",
    "list = [modes, iqr, ranges, skew, var, kurtosis]\n",
    "num_col_info_df = pd.DataFrame(data = list, columns = (['Killed', 'Injured', 'Total']))\n",
    "num_col_info_df.index = ['mode', 'iqr', 'range', 'skew', 'var', 'kurtosis']\n",
    "\n",
    "num_col_info_df = pd.concat([summary_df, num_col_info_df])\n",
    "\n",
    "num_col_info_df.round(2)"
   ]
  },
  {
   "attachments": {},
   "cell_type": "markdown",
   "metadata": {},
   "source": [
    "    - Lệch trái: Mean < Median < Mode.\n",
    "\n",
    "    - Lệch phải: Mode < Median < Mean.\n",
    "\n",
    "    - Đối xứng: Mode = Mean = Median"
   ]
  },
  {
   "cell_type": "code",
   "execution_count": 18,
   "metadata": {},
   "outputs": [
    {
     "data": {
      "image/png": "[encoded data removed]",
      "text/plain": [
       "<Figure size 1440x720 with 3 Axes>"
      ]
     },
     "metadata": {},
     "output_type": "display_data"
    }
   ],
   "source": [
    "k = 0\n",
    "fig, ax = plt.subplots(1, 3, figsize = (20, 10))\n",
    "for col in num_col:\n",
    "    ax[k].boxplot(df[col])\n",
    "    ax[k].set_title(col, fontsize = 16)\n",
    "\n",
    "    k += 1\n",
    "plt.show()"
   ]
  },
  {
   "attachments": {},
   "cell_type": "markdown",
   "metadata": {},
   "source": [
    "### 2. Phân tích đa biến\n",
    "#### 2.1. Phân loại vs phân loại\n",
    "\n",
    "- Phân tích đa biến phân loại vs phân loại thông qua :\n",
    "\n",
    "    - Xây dựng bảng 2 chiều (two-way table)\n",
    "    \n",
    "    - Trực quan hóa bằng biểu đồ cột chồng (stacked columns bar)\n",
    "\n",
    "    - Thực hiện phân tích thống kê bằng chi2"
   ]
  },
  {
   "attachments": {},
   "cell_type": "markdown",
   "metadata": {},
   "source": [
    "##### B1: Xây dựng bảng 2 chiều"
   ]
  },
  {
   "cell_type": "code",
   "execution_count": 19,
   "metadata": {},
   "outputs": [
    {
     "data": {
      "text/html": [
       "<div>\n",
       "<style scoped>\n",
       "    .dataframe tbody tr th:only-of-type {\n",
       "        vertical-align: middle;\n",
       "    }\n",
       "\n",
       "    .dataframe tbody tr th {\n",
       "        vertical-align: top;\n",
       "    }\n",
       "\n",
       "    .dataframe thead th {\n",
       "        text-align: right;\n",
       "    }\n",
       "</style>\n",
       "<table border=\"1\" class=\"dataframe\">\n",
       "  <thead>\n",
       "    <tr style=\"text-align: right;\">\n",
       "      <th>Year</th>\n",
       "      <th>2014</th>\n",
       "      <th>2015</th>\n",
       "      <th>2016</th>\n",
       "      <th>2017</th>\n",
       "      <th>2018</th>\n",
       "      <th>2019</th>\n",
       "      <th>2020</th>\n",
       "      <th>2021</th>\n",
       "    </tr>\n",
       "    <tr>\n",
       "      <th>State_Code</th>\n",
       "      <th></th>\n",
       "      <th></th>\n",
       "      <th></th>\n",
       "      <th></th>\n",
       "      <th></th>\n",
       "      <th></th>\n",
       "      <th></th>\n",
       "      <th></th>\n",
       "    </tr>\n",
       "  </thead>\n",
       "  <tbody>\n",
       "    <tr>\n",
       "      <th>AK</th>\n",
       "      <td>91</td>\n",
       "      <td>309</td>\n",
       "      <td>389</td>\n",
       "      <td>266</td>\n",
       "      <td>232</td>\n",
       "      <td>140</td>\n",
       "      <td>98</td>\n",
       "      <td>102</td>\n",
       "    </tr>\n",
       "    <tr>\n",
       "      <th>AL</th>\n",
       "      <td>1019</td>\n",
       "      <td>938</td>\n",
       "      <td>1203</td>\n",
       "      <td>1396</td>\n",
       "      <td>1306</td>\n",
       "      <td>1298</td>\n",
       "      <td>1162</td>\n",
       "      <td>1204</td>\n",
       "    </tr>\n",
       "    <tr>\n",
       "      <th>AR</th>\n",
       "      <td>423</td>\n",
       "      <td>454</td>\n",
       "      <td>638</td>\n",
       "      <td>766</td>\n",
       "      <td>776</td>\n",
       "      <td>708</td>\n",
       "      <td>623</td>\n",
       "      <td>539</td>\n",
       "    </tr>\n",
       "    <tr>\n",
       "      <th>AZ</th>\n",
       "      <td>402</td>\n",
       "      <td>389</td>\n",
       "      <td>523</td>\n",
       "      <td>579</td>\n",
       "      <td>534</td>\n",
       "      <td>622</td>\n",
       "      <td>791</td>\n",
       "      <td>747</td>\n",
       "    </tr>\n",
       "    <tr>\n",
       "      <th>CA</th>\n",
       "      <td>3090</td>\n",
       "      <td>2891</td>\n",
       "      <td>3368</td>\n",
       "      <td>4343</td>\n",
       "      <td>3652</td>\n",
       "      <td>3195</td>\n",
       "      <td>3495</td>\n",
       "      <td>3342</td>\n",
       "    </tr>\n",
       "    <tr>\n",
       "      <th>CO</th>\n",
       "      <td>358</td>\n",
       "      <td>628</td>\n",
       "      <td>727</td>\n",
       "      <td>773</td>\n",
       "      <td>761</td>\n",
       "      <td>687</td>\n",
       "      <td>812</td>\n",
       "      <td>802</td>\n",
       "    </tr>\n",
       "    <tr>\n",
       "      <th>CT</th>\n",
       "      <td>411</td>\n",
       "      <td>674</td>\n",
       "      <td>742</td>\n",
       "      <td>713</td>\n",
       "      <td>778</td>\n",
       "      <td>749</td>\n",
       "      <td>787</td>\n",
       "      <td>618</td>\n",
       "    </tr>\n",
       "    <tr>\n",
       "      <th>DC</th>\n",
       "      <td>385</td>\n",
       "      <td>437</td>\n",
       "      <td>428</td>\n",
       "      <td>556</td>\n",
       "      <td>653</td>\n",
       "      <td>712</td>\n",
       "      <td>995</td>\n",
       "      <td>894</td>\n",
       "    </tr>\n",
       "    <tr>\n",
       "      <th>DE</th>\n",
       "      <td>329</td>\n",
       "      <td>324</td>\n",
       "      <td>300</td>\n",
       "      <td>382</td>\n",
       "      <td>360</td>\n",
       "      <td>417</td>\n",
       "      <td>389</td>\n",
       "      <td>271</td>\n",
       "    </tr>\n",
       "    <tr>\n",
       "      <th>FL</th>\n",
       "      <td>2217</td>\n",
       "      <td>2293</td>\n",
       "      <td>3925</td>\n",
       "      <td>4018</td>\n",
       "      <td>3168</td>\n",
       "      <td>3026</td>\n",
       "      <td>2732</td>\n",
       "      <td>2228</td>\n",
       "    </tr>\n",
       "    <tr>\n",
       "      <th>GA</th>\n",
       "      <td>1486</td>\n",
       "      <td>2443</td>\n",
       "      <td>1564</td>\n",
       "      <td>1886</td>\n",
       "      <td>1646</td>\n",
       "      <td>1677</td>\n",
       "      <td>1637</td>\n",
       "      <td>1818</td>\n",
       "    </tr>\n",
       "    <tr>\n",
       "      <th>HI</th>\n",
       "      <td>28</td>\n",
       "      <td>55</td>\n",
       "      <td>69</td>\n",
       "      <td>61</td>\n",
       "      <td>77</td>\n",
       "      <td>64</td>\n",
       "      <td>50</td>\n",
       "      <td>60</td>\n",
       "    </tr>\n",
       "    <tr>\n",
       "      <th>IA</th>\n",
       "      <td>421</td>\n",
       "      <td>429</td>\n",
       "      <td>509</td>\n",
       "      <td>543</td>\n",
       "      <td>458</td>\n",
       "      <td>534</td>\n",
       "      <td>565</td>\n",
       "      <td>395</td>\n",
       "    </tr>\n",
       "    <tr>\n",
       "      <th>ID</th>\n",
       "      <td>75</td>\n",
       "      <td>136</td>\n",
       "      <td>138</td>\n",
       "      <td>160</td>\n",
       "      <td>156</td>\n",
       "      <td>102</td>\n",
       "      <td>114</td>\n",
       "      <td>103</td>\n",
       "    </tr>\n",
       "    <tr>\n",
       "      <th>IL</th>\n",
       "      <td>2630</td>\n",
       "      <td>3296</td>\n",
       "      <td>4933</td>\n",
       "      <td>4952</td>\n",
       "      <td>3942</td>\n",
       "      <td>3681</td>\n",
       "      <td>4735</td>\n",
       "      <td>4837</td>\n",
       "    </tr>\n",
       "    <tr>\n",
       "      <th>IN</th>\n",
       "      <td>931</td>\n",
       "      <td>1213</td>\n",
       "      <td>1439</td>\n",
       "      <td>1443</td>\n",
       "      <td>1322</td>\n",
       "      <td>1392</td>\n",
       "      <td>1484</td>\n",
       "      <td>1344</td>\n",
       "    </tr>\n",
       "    <tr>\n",
       "      <th>KS</th>\n",
       "      <td>314</td>\n",
       "      <td>410</td>\n",
       "      <td>498</td>\n",
       "      <td>535</td>\n",
       "      <td>600</td>\n",
       "      <td>484</td>\n",
       "      <td>498</td>\n",
       "      <td>356</td>\n",
       "    </tr>\n",
       "    <tr>\n",
       "      <th>KY</th>\n",
       "      <td>634</td>\n",
       "      <td>829</td>\n",
       "      <td>969</td>\n",
       "      <td>995</td>\n",
       "      <td>911</td>\n",
       "      <td>1015</td>\n",
       "      <td>1113</td>\n",
       "      <td>1040</td>\n",
       "    </tr>\n",
       "    <tr>\n",
       "      <th>LA</th>\n",
       "      <td>1361</td>\n",
       "      <td>1526</td>\n",
       "      <td>1899</td>\n",
       "      <td>1889</td>\n",
       "      <td>1739</td>\n",
       "      <td>1745</td>\n",
       "      <td>1746</td>\n",
       "      <td>1878</td>\n",
       "    </tr>\n",
       "    <tr>\n",
       "      <th>MA</th>\n",
       "      <td>691</td>\n",
       "      <td>1204</td>\n",
       "      <td>1403</td>\n",
       "      <td>1534</td>\n",
       "      <td>1449</td>\n",
       "      <td>1122</td>\n",
       "      <td>884</td>\n",
       "      <td>540</td>\n",
       "    </tr>\n",
       "    <tr>\n",
       "      <th>MD</th>\n",
       "      <td>926</td>\n",
       "      <td>1169</td>\n",
       "      <td>1249</td>\n",
       "      <td>1582</td>\n",
       "      <td>1723</td>\n",
       "      <td>1701</td>\n",
       "      <td>1537</td>\n",
       "      <td>1554</td>\n",
       "    </tr>\n",
       "    <tr>\n",
       "      <th>ME</th>\n",
       "      <td>129</td>\n",
       "      <td>158</td>\n",
       "      <td>163</td>\n",
       "      <td>173</td>\n",
       "      <td>192</td>\n",
       "      <td>147</td>\n",
       "      <td>95</td>\n",
       "      <td>71</td>\n",
       "    </tr>\n",
       "    <tr>\n",
       "      <th>MI</th>\n",
       "      <td>1109</td>\n",
       "      <td>1149</td>\n",
       "      <td>1229</td>\n",
       "      <td>1304</td>\n",
       "      <td>1585</td>\n",
       "      <td>1403</td>\n",
       "      <td>2539</td>\n",
       "      <td>1961</td>\n",
       "    </tr>\n",
       "    <tr>\n",
       "      <th>MN</th>\n",
       "      <td>318</td>\n",
       "      <td>341</td>\n",
       "      <td>414</td>\n",
       "      <td>647</td>\n",
       "      <td>690</td>\n",
       "      <td>415</td>\n",
       "      <td>1084</td>\n",
       "      <td>870</td>\n",
       "    </tr>\n",
       "    <tr>\n",
       "      <th>MO</th>\n",
       "      <td>996</td>\n",
       "      <td>1493</td>\n",
       "      <td>1438</td>\n",
       "      <td>1677</td>\n",
       "      <td>1591</td>\n",
       "      <td>1536</td>\n",
       "      <td>1726</td>\n",
       "      <td>1301</td>\n",
       "    </tr>\n",
       "    <tr>\n",
       "      <th>MS</th>\n",
       "      <td>584</td>\n",
       "      <td>581</td>\n",
       "      <td>779</td>\n",
       "      <td>955</td>\n",
       "      <td>975</td>\n",
       "      <td>954</td>\n",
       "      <td>827</td>\n",
       "      <td>765</td>\n",
       "    </tr>\n",
       "    <tr>\n",
       "      <th>MT</th>\n",
       "      <td>85</td>\n",
       "      <td>101</td>\n",
       "      <td>140</td>\n",
       "      <td>144</td>\n",
       "      <td>126</td>\n",
       "      <td>90</td>\n",
       "      <td>106</td>\n",
       "      <td>73</td>\n",
       "    </tr>\n",
       "    <tr>\n",
       "      <th>NC</th>\n",
       "      <td>1543</td>\n",
       "      <td>1674</td>\n",
       "      <td>1929</td>\n",
       "      <td>2029</td>\n",
       "      <td>1794</td>\n",
       "      <td>1933</td>\n",
       "      <td>1904</td>\n",
       "      <td>1737</td>\n",
       "    </tr>\n",
       "    <tr>\n",
       "      <th>ND</th>\n",
       "      <td>71</td>\n",
       "      <td>105</td>\n",
       "      <td>127</td>\n",
       "      <td>119</td>\n",
       "      <td>100</td>\n",
       "      <td>68</td>\n",
       "      <td>74</td>\n",
       "      <td>58</td>\n",
       "    </tr>\n",
       "    <tr>\n",
       "      <th>NE</th>\n",
       "      <td>238</td>\n",
       "      <td>317</td>\n",
       "      <td>340</td>\n",
       "      <td>368</td>\n",
       "      <td>426</td>\n",
       "      <td>370</td>\n",
       "      <td>435</td>\n",
       "      <td>306</td>\n",
       "    </tr>\n",
       "    <tr>\n",
       "      <th>NH</th>\n",
       "      <td>155</td>\n",
       "      <td>175</td>\n",
       "      <td>243</td>\n",
       "      <td>195</td>\n",
       "      <td>174</td>\n",
       "      <td>158</td>\n",
       "      <td>123</td>\n",
       "      <td>75</td>\n",
       "    </tr>\n",
       "    <tr>\n",
       "      <th>NJ</th>\n",
       "      <td>1092</td>\n",
       "      <td>931</td>\n",
       "      <td>1111</td>\n",
       "      <td>1279</td>\n",
       "      <td>1192</td>\n",
       "      <td>1229</td>\n",
       "      <td>1054</td>\n",
       "      <td>990</td>\n",
       "    </tr>\n",
       "    <tr>\n",
       "      <th>NM</th>\n",
       "      <td>238</td>\n",
       "      <td>343</td>\n",
       "      <td>338</td>\n",
       "      <td>399</td>\n",
       "      <td>323</td>\n",
       "      <td>372</td>\n",
       "      <td>486</td>\n",
       "      <td>466</td>\n",
       "    </tr>\n",
       "    <tr>\n",
       "      <th>NV</th>\n",
       "      <td>278</td>\n",
       "      <td>412</td>\n",
       "      <td>493</td>\n",
       "      <td>431</td>\n",
       "      <td>385</td>\n",
       "      <td>329</td>\n",
       "      <td>453</td>\n",
       "      <td>404</td>\n",
       "    </tr>\n",
       "    <tr>\n",
       "      <th>NY</th>\n",
       "      <td>1508</td>\n",
       "      <td>2643</td>\n",
       "      <td>2315</td>\n",
       "      <td>1954</td>\n",
       "      <td>1753</td>\n",
       "      <td>1919</td>\n",
       "      <td>3311</td>\n",
       "      <td>2679</td>\n",
       "    </tr>\n",
       "    <tr>\n",
       "      <th>OH</th>\n",
       "      <td>1810</td>\n",
       "      <td>1979</td>\n",
       "      <td>2331</td>\n",
       "      <td>2578</td>\n",
       "      <td>2535</td>\n",
       "      <td>2530</td>\n",
       "      <td>2511</td>\n",
       "      <td>2249</td>\n",
       "    </tr>\n",
       "    <tr>\n",
       "      <th>OK</th>\n",
       "      <td>436</td>\n",
       "      <td>719</td>\n",
       "      <td>829</td>\n",
       "      <td>832</td>\n",
       "      <td>844</td>\n",
       "      <td>792</td>\n",
       "      <td>669</td>\n",
       "      <td>608</td>\n",
       "    </tr>\n",
       "    <tr>\n",
       "      <th>OR</th>\n",
       "      <td>255</td>\n",
       "      <td>553</td>\n",
       "      <td>481</td>\n",
       "      <td>477</td>\n",
       "      <td>467</td>\n",
       "      <td>355</td>\n",
       "      <td>481</td>\n",
       "      <td>432</td>\n",
       "    </tr>\n",
       "    <tr>\n",
       "      <th>PA</th>\n",
       "      <td>1842</td>\n",
       "      <td>1651</td>\n",
       "      <td>2109</td>\n",
       "      <td>2271</td>\n",
       "      <td>2773</td>\n",
       "      <td>2784</td>\n",
       "      <td>3024</td>\n",
       "      <td>2860</td>\n",
       "    </tr>\n",
       "    <tr>\n",
       "      <th>RI</th>\n",
       "      <td>139</td>\n",
       "      <td>207</td>\n",
       "      <td>221</td>\n",
       "      <td>182</td>\n",
       "      <td>188</td>\n",
       "      <td>117</td>\n",
       "      <td>129</td>\n",
       "      <td>90</td>\n",
       "    </tr>\n",
       "    <tr>\n",
       "      <th>SC</th>\n",
       "      <td>1216</td>\n",
       "      <td>1541</td>\n",
       "      <td>1350</td>\n",
       "      <td>1583</td>\n",
       "      <td>1380</td>\n",
       "      <td>1502</td>\n",
       "      <td>1322</td>\n",
       "      <td>1269</td>\n",
       "    </tr>\n",
       "    <tr>\n",
       "      <th>SD</th>\n",
       "      <td>43</td>\n",
       "      <td>89</td>\n",
       "      <td>115</td>\n",
       "      <td>187</td>\n",
       "      <td>97</td>\n",
       "      <td>79</td>\n",
       "      <td>114</td>\n",
       "      <td>55</td>\n",
       "    </tr>\n",
       "    <tr>\n",
       "      <th>TN</th>\n",
       "      <td>1239</td>\n",
       "      <td>1581</td>\n",
       "      <td>1936</td>\n",
       "      <td>1859</td>\n",
       "      <td>1704</td>\n",
       "      <td>1792</td>\n",
       "      <td>1700</td>\n",
       "      <td>1740</td>\n",
       "    </tr>\n",
       "    <tr>\n",
       "      <th>TX</th>\n",
       "      <td>2118</td>\n",
       "      <td>2626</td>\n",
       "      <td>3242</td>\n",
       "      <td>2801</td>\n",
       "      <td>2733</td>\n",
       "      <td>3500</td>\n",
       "      <td>4640</td>\n",
       "      <td>4220</td>\n",
       "    </tr>\n",
       "    <tr>\n",
       "      <th>UT</th>\n",
       "      <td>156</td>\n",
       "      <td>231</td>\n",
       "      <td>218</td>\n",
       "      <td>217</td>\n",
       "      <td>199</td>\n",
       "      <td>202</td>\n",
       "      <td>307</td>\n",
       "      <td>215</td>\n",
       "    </tr>\n",
       "    <tr>\n",
       "      <th>VA</th>\n",
       "      <td>893</td>\n",
       "      <td>1196</td>\n",
       "      <td>1530</td>\n",
       "      <td>1448</td>\n",
       "      <td>1310</td>\n",
       "      <td>1400</td>\n",
       "      <td>1536</td>\n",
       "      <td>1446</td>\n",
       "    </tr>\n",
       "    <tr>\n",
       "      <th>VT</th>\n",
       "      <td>106</td>\n",
       "      <td>94</td>\n",
       "      <td>79</td>\n",
       "      <td>65</td>\n",
       "      <td>102</td>\n",
       "      <td>82</td>\n",
       "      <td>58</td>\n",
       "      <td>37</td>\n",
       "    </tr>\n",
       "    <tr>\n",
       "      <th>WA</th>\n",
       "      <td>489</td>\n",
       "      <td>738</td>\n",
       "      <td>673</td>\n",
       "      <td>848</td>\n",
       "      <td>682</td>\n",
       "      <td>565</td>\n",
       "      <td>546</td>\n",
       "      <td>541</td>\n",
       "    </tr>\n",
       "    <tr>\n",
       "      <th>WI</th>\n",
       "      <td>802</td>\n",
       "      <td>1011</td>\n",
       "      <td>815</td>\n",
       "      <td>1231</td>\n",
       "      <td>1162</td>\n",
       "      <td>976</td>\n",
       "      <td>1511</td>\n",
       "      <td>1441</td>\n",
       "    </tr>\n",
       "    <tr>\n",
       "      <th>WV</th>\n",
       "      <td>242</td>\n",
       "      <td>307</td>\n",
       "      <td>329</td>\n",
       "      <td>357</td>\n",
       "      <td>313</td>\n",
       "      <td>335</td>\n",
       "      <td>297</td>\n",
       "      <td>234</td>\n",
       "    </tr>\n",
       "    <tr>\n",
       "      <th>WY</th>\n",
       "      <td>40</td>\n",
       "      <td>55</td>\n",
       "      <td>54</td>\n",
       "      <td>55</td>\n",
       "      <td>43</td>\n",
       "      <td>35</td>\n",
       "      <td>27</td>\n",
       "      <td>21</td>\n",
       "    </tr>\n",
       "  </tbody>\n",
       "</table>\n",
       "</div>"
      ],
      "text/plain": [
       "Year        2014  2015  2016  2017  2018  2019  2020  2021\n",
       "State_Code                                                \n",
       "AK            91   309   389   266   232   140    98   102\n",
       "AL          1019   938  1203  1396  1306  1298  1162  1204\n",
       "AR           423   454   638   766   776   708   623   539\n",
       "AZ           402   389   523   579   534   622   791   747\n",
       "CA          3090  2891  3368  4343  3652  3195  3495  3342\n",
       "CO           358   628   727   773   761   687   812   802\n",
       "CT           411   674   742   713   778   749   787   618\n",
       "DC           385   437   428   556   653   712   995   894\n",
       "DE           329   324   300   382   360   417   389   271\n",
       "FL          2217  2293  3925  4018  3168  3026  2732  2228\n",
       "GA          1486  2443  1564  1886  1646  1677  1637  1818\n",
       "HI            28    55    69    61    77    64    50    60\n",
       "IA           421   429   509   543   458   534   565   395\n",
       "ID            75   136   138   160   156   102   114   103\n",
       "IL          2630  3296  4933  4952  3942  3681  4735  4837\n",
       "IN           931  1213  1439  1443  1322  1392  1484  1344\n",
       "KS           314   410   498   535   600   484   498   356\n",
       "KY           634   829   969   995   911  1015  1113  1040\n",
       "LA          1361  1526  1899  1889  1739  1745  1746  1878\n",
       "MA           691  1204  1403  1534  1449  1122   884   540\n",
       "MD           926  1169  1249  1582  1723  1701  1537  1554\n",
       "ME           129   158   163   173   192   147    95    71\n",
       "MI          1109  1149  1229  1304  1585  1403  2539  1961\n",
       "MN           318   341   414   647   690   415  1084   870\n",
       "MO           996  1493  1438  1677  1591  1536  1726  1301\n",
       "MS           584   581   779   955   975   954   827   765\n",
       "MT            85   101   140   144   126    90   106    73\n",
       "NC          1543  1674  1929  2029  1794  1933  1904  1737\n",
       "ND            71   105   127   119   100    68    74    58\n",
       "NE           238   317   340   368   426   370   435   306\n",
       "NH           155   175   243   195   174   158   123    75\n",
       "NJ          1092   931  1111  1279  1192  1229  1054   990\n",
       "NM           238   343   338   399   323   372   486   466\n",
       "NV           278   412   493   431   385   329   453   404\n",
       "NY          1508  2643  2315  1954  1753  1919  3311  2679\n",
       "OH          1810  1979  2331  2578  2535  2530  2511  2249\n",
       "OK           436   719   829   832   844   792   669   608\n",
       "OR           255   553   481   477   467   355   481   432\n",
       "PA          1842  1651  2109  2271  2773  2784  3024  2860\n",
       "RI           139   207   221   182   188   117   129    90\n",
       "SC          1216  1541  1350  1583  1380  1502  1322  1269\n",
       "SD            43    89   115   187    97    79   114    55\n",
       "TN          1239  1581  1936  1859  1704  1792  1700  1740\n",
       "TX          2118  2626  3242  2801  2733  3500  4640  4220\n",
       "UT           156   231   218   217   199   202   307   215\n",
       "VA           893  1196  1530  1448  1310  1400  1536  1446\n",
       "VT           106    94    79    65   102    82    58    37\n",
       "WA           489   738   673   848   682   565   546   541\n",
       "WI           802  1011   815  1231  1162   976  1511  1441\n",
       "WV           242   307   329   357   313   335   297   234\n",
       "WY            40    55    54    55    43    35    27    21"
      ]
     },
     "execution_count": 19,
     "metadata": {},
     "output_type": "execute_result"
    }
   ],
   "source": [
    "tw_table = pd.crosstab(df['State_Code'], df['Year'])\n",
    "\n",
    "tw_table"
   ]
  },
  {
   "attachments": {},
   "cell_type": "markdown",
   "metadata": {},
   "source": [
    "##### B2: Trực quan hóa bằng biểu đồ cột chồng (stacked columns bar)"
   ]
  },
  {
   "cell_type": "code",
   "execution_count": 20,
   "metadata": {},
   "outputs": [
    {
     "data": {
      "text/plain": [
       "<AxesSubplot:xlabel='State_Code'>"
      ]
     },
     "execution_count": 20,
     "metadata": {},
     "output_type": "execute_result"
    },
    {
     "data": {
      "image/png": "[encoded data removed]",
      "text/plain": [
       "<Figure size 2160x864 with 1 Axes>"
      ]
     },
     "metadata": {},
     "output_type": "display_data"
    }
   ],
   "source": [
    "tw_table.plot(kind = 'bar', stacked = True, legend = False, figsize = (30, 12))"
   ]
  },
  {
   "attachments": {},
   "cell_type": "markdown",
   "metadata": {},
   "source": [
    "##### B3: Phân tích thống kê chi² (kiểm định chi bình phương / chi-square) để kiểm tra biến `độc lập` hay `phụ thuộc`."
   ]
  },
  {
   "attachments": {},
   "cell_type": "markdown",
   "metadata": {},
   "source": [
    "- `chi2_contigency`: Hàm này tính toán thống kê chi bình phương và p-value cho phép kiểm tra giả thuyết về tính độc lập của các tần số được quan sát.\n",
    "\n",
    "- Giả thuyết:\n",
    "\n",
    "        - H0: 2 biến độc lập\n",
    "        - Bác bỏ H0: 2 biến phụ thuộc\n"
   ]
  },
  {
   "cell_type": "code",
   "execution_count": 21,
   "metadata": {},
   "outputs": [],
   "source": [
    "from scipy.stats import chi2_contingency\n",
    "\n",
    "def use_chi_2_evaluation(tw_table, prob):\n",
    "    \"\"\"\n",
    "    Use chi2 to check 2 category in two-way table Dependent or not\n",
    "    parameter tw_table: two-way table of 2 category variable\n",
    "    parameter prob: percent of chance that accept null hypothesis (H0-2 variable independent)\n",
    "    \"\"\"\n",
    "    stats, p, dof, expected = chi2_contingency(tw_table)\n",
    "    alpha = 1 - prob\n",
    "    if p <= alpha:\n",
    "        return 'Reject H0 - Dependent'\n",
    "    else:\n",
    "        return 'Fail to reject H0 - Independent'"
   ]
  },
  {
   "cell_type": "code",
   "execution_count": 22,
   "metadata": {},
   "outputs": [
    {
     "data": {
      "text/plain": [
       "'Reject H0 - Dependent'"
      ]
     },
     "execution_count": 22,
     "metadata": {},
     "output_type": "execute_result"
    }
   ],
   "source": [
    "use_chi_2_evaluation(tw_table, 0.95)"
   ]
  },
  {
   "attachments": {},
   "cell_type": "markdown",
   "metadata": {},
   "source": [
    "#### 2.2. Liên tục vs phân loại\n",
    "\n",
    "- Phân tích đa biến liên tục vs phân loại thông qua:\n",
    "\n",
    "   - Xây dựng bảng ANOVA và phân tích thống kê.\n",
    "   \n",
    "   - Trực quan hóa bằng box plot."
   ]
  },
  {
   "attachments": {},
   "cell_type": "markdown",
   "metadata": {},
   "source": [
    "##### `Kiểm định ANOVA (ANOVA test)` hay còn được gọi là `phân tích phương sai (Analysis of Variance)` là một kỹ thuật thống kê tham số được sử dụng để phân tích sự khác nhau giữa giá trị trung bình của các biến phụ thuộc với nhau"
   ]
  },
  {
   "attachments": {},
   "cell_type": "markdown",
   "metadata": {},
   "source": [
    "| Tên biến trả về | Kiểu dữ liệu | Ý nghĩa|\n",
    "|                                -|            -|-|\n",
    "sum_sq           |  float64      | Tổng bình phương cho các thuật ngữ mô hình.\n",
    "df                  |  float64 | Bậc tự do\n",
    "F                     |  float64     | Giá trị thống kê F `(là tỷ lệ biến thiên giữa các số trung bình mẫu và sự biến thiên trong nội bộ các mẫu)`\n",
    "City_Or_County\t\t           |  object     | Tên các thành phố hoặc quận diễn ra bạo lực tại Hoa Kỳ\n",
    "PR(>F)          | float64 | Giá trị thống kê p (p-value)"
   ]
  },
  {
   "attachments": {},
   "cell_type": "markdown",
   "metadata": {},
   "source": [
    "- `C(Year)`: C = Constant, tức là không thay đổi.\n",
    "\n",
    "- `Residual`: Sự khác biệt giữa giá trị quan sát và giá trị dự đoán trong mô hình hồi quy"
   ]
  },
  {
   "cell_type": "code",
   "execution_count": 88,
   "metadata": {},
   "outputs": [
    {
     "name": "stdout",
     "output_type": "stream",
     "text": [
      "                 sum_sq        df           F  PR(>F)\n",
      "C(Year)     3423.739145       7.0  383.114389     0.0\n",
      "Residual  533765.104375  418096.0         NaN     NaN\n",
      "======\n"
     ]
    },
    {
     "data": {
      "image/png": "[encoded data removed]",
      "text/plain": [
       "<Figure size 1728x864 with 1 Axes>"
      ]
     },
     "metadata": {},
     "output_type": "display_data"
    }
   ],
   "source": [
    "fig = plt.subplots(figsize = (24, 12))\n",
    "analyzer.analyze_continous_vs_categories('Total', 'Year', df)"
   ]
  },
  {
   "attachments": {},
   "cell_type": "markdown",
   "metadata": {},
   "source": [
    "### 3. Phân tích outlier của biến liên tục"
   ]
  },
  {
   "cell_type": "code",
   "execution_count": 24,
   "metadata": {},
   "outputs": [
    {
     "name": "stdout",
     "output_type": "stream",
     "text": [
      "variable Total have 3.186% upper outlier\n",
      "variable Total have 0.0% lower outlier\n"
     ]
    },
    {
     "data": {
      "text/plain": [
       "(Int64Index([  92148,   92174,   92194,   92292,   92328,   92405,   92479,\n",
       "               92602,   92704,   92883,\n",
       "             ...\n",
       "             2201216, 2201351, 2201535, 2201716, 2201858, 2201887, 2203406,\n",
       "             2205503, 2205731, 2401560],\n",
       "            dtype='int64', name='Incident_ID', length=13322),\n",
       " Int64Index([], dtype='int64', name='Incident_ID'))"
      ]
     },
     "execution_count": 24,
     "metadata": {},
     "output_type": "execute_result"
    }
   ],
   "source": [
    "analyzer.check_outlier_of_numerical_variable('Total', df)"
   ]
  },
  {
   "attachments": {},
   "cell_type": "markdown",
   "metadata": {},
   "source": [
    "### 4. Phân tích hiện tượng mất cân bằng dữ liệu ở biến phân loại output"
   ]
  },
  {
   "cell_type": "code",
   "execution_count": 25,
   "metadata": {},
   "outputs": [
    {
     "name": "stdout",
     "output_type": "stream",
     "text": [
      "Class count of Total:\n",
      "\n",
      "==========\n",
      "1      0.570413\n",
      "0      0.300241\n",
      "2      0.097483\n",
      "3      0.021942\n",
      "4      0.006054\n",
      "5      0.002098\n",
      "6      0.000849\n",
      "7      0.000431\n",
      "8      0.000184\n",
      "9      0.000093\n",
      "10     0.000048\n",
      "12     0.000033\n",
      "11     0.000029\n",
      "15     0.000022\n",
      "16     0.000010\n",
      "18     0.000007\n",
      "13     0.000007\n",
      "14     0.000007\n",
      "21     0.000005\n",
      "23     0.000005\n",
      "17     0.000005\n",
      "19     0.000005\n",
      "27     0.000005\n",
      "20     0.000005\n",
      "103    0.000002\n",
      "35     0.000002\n",
      "25     0.000002\n",
      "500    0.000002\n",
      "47     0.000002\n",
      "34     0.000002\n",
      "46     0.000002\n",
      "31     0.000002\n",
      "22     0.000002\n",
      "Name: Total, dtype: float64\n",
      "==========\n",
      "Ratio of 2 class is 238492.0\n",
      "You should consider to handle imbalance\n"
     ]
    }
   ],
   "source": [
    "analyzer.check_imbalance_class('Total', df)"
   ]
  },
  {
   "attachments": {},
   "cell_type": "markdown",
   "metadata": {},
   "source": [
    "#### Xử lý mất cân bằng dữ liệu - UnderSampling"
   ]
  },
  {
   "attachments": {},
   "cell_type": "markdown",
   "metadata": {},
   "source": [
    "## III. Trực quan hóa dữ liệu\n",
    "### 1. Heatmap"
   ]
  },
  {
   "cell_type": "code",
   "execution_count": 26,
   "metadata": {},
   "outputs": [
    {
     "data": {
      "image/png": "[encoded data removed]",
      "text/plain": [
       "<Figure size 864x648 with 2 Axes>"
      ]
     },
     "metadata": {},
     "output_type": "display_data"
    }
   ],
   "source": [
    "sns.set_style(\"white\")\n",
    "matrix = df.iloc[:, :-4].corr()      # Year & Month & DoW not included\n",
    "f,ax=plt.subplots(figsize = (matrix.shape[0] * 4,\n",
    "                                matrix.shape[1] * 3))\n",
    "sns.heatmap(df.iloc[:, :-4].corr(),\n",
    "            annot= True,\n",
    "            fmt = \".2f\",\n",
    "            ax=ax,\n",
    "            vmin = -1,\n",
    "            vmax = 1,\n",
    "            cmap = \"Blues\",\n",
    "            annot_kws={\"size\": 10})\n",
    "plt.xticks(0.5 + np.arange(matrix.shape[0]), matrix.columns)\n",
    "plt.yticks(0.5 + np.arange(matrix.shape[0]), matrix.columns)\n",
    "plt.title('\\nPairwise Correlation Map\\n', size = 25)\n",
    "plt.show()"
   ]
  },
  {
   "attachments": {},
   "cell_type": "markdown",
   "metadata": {},
   "source": [
    "### ` Nhận xét: `\n",
    "   - Ta thấy `Injured` ảnh hưởng tới `Total` nhiều hơn là `Killed`\n",
    "\n",
    "   - `Injured` và `Killed` không ảnh hưởng gì nhiều tới nhau."
   ]
  },
  {
   "attachments": {},
   "cell_type": "markdown",
   "metadata": {},
   "source": [
    "### 2. Barchart\n",
    "\n",
    "- Chúng ta tiến hành trực quan thêm bằng barchart để làm rõ hơn các mối tương quan này, đồng thời có cái nhìn trực quan hơn về dữ liệu.\n",
    "\n",
    "<h2 style='color:#6ac61f'> Câu hỏi 1: Xu hướng các vụ nổ súng theo các năm, quý, tháng và các ngày trong tuần ở mỹ là như thế nào? </h2>\n",
    "\n",
    "### **- Thống kê theo năm**"
   ]
  },
  {
   "cell_type": "code",
   "execution_count": 27,
   "metadata": {},
   "outputs": [],
   "source": [
    "font1 = {'family':'serif','color':'blue','size':20}\n",
    "font2 = {'family':'serif','color':'darkred','size':15}"
   ]
  },
  {
   "cell_type": "code",
   "execution_count": 28,
   "metadata": {},
   "outputs": [
    {
     "data": {
      "image/png": "[encoded data removed]",
      "text/plain": [
       "<Figure size 864x576 with 1 Axes>"
      ]
     },
     "metadata": {},
     "output_type": "display_data"
    }
   ],
   "source": [
    "number_y = df.groupby(['Year']).size()\n",
    "labels_y = pd.Series(df['Year'].unique()).sort_values()\n",
    "x_y = np.arange(2014, 2022)\n",
    "fig, ax = plt.subplots()\n",
    "fig.set_figheight(8)\n",
    "fig.set_figwidth(12)\n",
    "\n",
    "rects1 = ax.bar(x_y, number_y, 0.5)\n",
    "\n",
    "ax.set_ylabel('Số vụ', fontdict = font2)\n",
    "ax.set_xlabel('Năm', fontdict = font2)\n",
    "ax.set_title('Thống kê số vụ nổ súng theo năm', fontdict = font1)\n",
    "ax.set_xticks(x_y)\n",
    "\n",
    "ax.bar_label(rects1, padding = 3)\n",
    "\n",
    "fig.savefig(\"year_number.png\")\n",
    "plt.show()"
   ]
  },
  {
   "attachments": {},
   "cell_type": "markdown",
   "metadata": {},
   "source": [
    "#### `Nhận xét:` Số vụ nổ súng tăng mạnh từ năm 2014-2017. Nhưng lại giảm từ năm 2017-2019 nhưng tốc độ giảm không bằng so với lúc tăng trước đây. Nhưng lại tăng mạnh chỉ sau đó 1 năm rùi tới năm 2021 lại giảm. Tăng mạnh nhất từ năm 2014-2015 (tăng gần 9000 vụ nổ súng).\n",
    "\n",
    "### **- Thống kê theo quý**"
   ]
  },
  {
   "cell_type": "code",
   "execution_count": 29,
   "metadata": {},
   "outputs": [
    {
     "data": {
      "image/png": "[encoded data removed]",
      "text/plain": [
       "<Figure size 864x576 with 1 Axes>"
      ]
     },
     "metadata": {},
     "output_type": "display_data"
    }
   ],
   "source": [
    "number_q = df.groupby(['Quarter']).size()\n",
    "labels_q = pd.Series(df['Quarter'].unique()).sort_values()\n",
    "x_q = np.arange(len(range(1, 5)))\n",
    "fig, ax = plt.subplots()\n",
    "fig.set_figheight(8)\n",
    "fig.set_figwidth(12)\n",
    "\n",
    "rects1 = ax.bar(x_q, number_q, 0.5)\n",
    "\n",
    "ax.set_ylabel('Số vụ', fontdict=font2)\n",
    "ax.set_xlabel('Quý', fontdict=font2)\n",
    "ax.set_title('Thống kê số vụ nổ súng theo quý', fontdict=font1)\n",
    "ax.set_xticks(x_q)\n",
    "\n",
    "ax.bar_label(rects1, padding=3)\n",
    "\n",
    "fig.savefig(\"quarter_number.png\")\n",
    "\n",
    "plt.show()"
   ]
  },
  {
   "attachments": {},
   "cell_type": "markdown",
   "metadata": {},
   "source": [
    "#### `Nhận xét:` Số vụ nổ súng diễn ra nhiều nhất ở quý 3 sau đó tới quý 2, quý 4 và thấp nhất là quý 1.\n",
    "\n",
    "### **- Thống kê theo tháng**"
   ]
  },
  {
   "cell_type": "code",
   "execution_count": 30,
   "metadata": {},
   "outputs": [
    {
     "data": {
      "image/png": "[encoded data removed]",
      "text/plain": [
       "<Figure size 1008x720 with 1 Axes>"
      ]
     },
     "metadata": {},
     "output_type": "display_data"
    }
   ],
   "source": [
    "number_m = df.groupby(['Month']).size()\n",
    "labels_m = pd.Series(df['Month'].unique()).sort_values()\n",
    "x_m = np.arange(1, 13)\n",
    "fig, ax = plt.subplots()\n",
    "fig.set_figheight(10)\n",
    "fig.set_figwidth(14)\n",
    "\n",
    "rects1=ax.bar(x_m, number_m, 0.6)\n",
    "\n",
    "ax.set_ylabel('Số vụ', fontdict = font2)\n",
    "ax.set_xlabel('Tháng', fontdict = font2)\n",
    "ax.set_title('Thống kê số vụ nổ súng theo tháng', fontdict = font1)\n",
    "ax.set_xticks(x_m)\n",
    "\n",
    "ax.bar_label(rects1, padding=3)\n",
    "\n",
    "fig.savefig(\"month_number.png\")\n",
    "\n",
    "plt.show()"
   ]
  },
  {
   "attachments": {},
   "cell_type": "markdown",
   "metadata": {},
   "source": [
    "#### `Nhận xét:` 3 tháng xảy ra ít vụ nổ súng nhất là tháng 2, tháng 3, tháng 4. Trong đó tháng 2 là thấp nhất có lẽ bởi là ít ngày nhất trong năm. 3 tháng xảy ra nhiều vụ nổ súng nhất là tháng 5, tháng 7, tháng 8. Trong đó tháng 7 là tháng xảy ra nhiều vụ nhất trong tất cả các tháng\n",
    "\n",
    "### **- Thống kê theo các ngày trong tuần:**"
   ]
  },
  {
   "cell_type": "code",
   "execution_count": 31,
   "metadata": {},
   "outputs": [
    {
     "data": {
      "image/png": "[encoded data removed]",
      "text/plain": [
       "<Figure size 864x576 with 1 Axes>"
      ]
     },
     "metadata": {},
     "output_type": "display_data"
    }
   ],
   "source": [
    "cats = [ 'Monday', 'Tuesday', 'Wednesday', 'Thursday', 'Friday', 'Saturday', 'Sunday']\n",
    "number_d = df.groupby(['Day_Of_Week']).size().reindex(cats)\n",
    "labels_d = [ 'Monday', 'Tuesday', 'Wednesday', 'Thursday', 'Friday', 'Saturday', 'Sunday']\n",
    "x_d = np.arange(1, 8)\n",
    "fig, ax = plt.subplots()\n",
    "fig.set_figheight(8)\n",
    "fig.set_figwidth(12)\n",
    "\n",
    "rects1 = ax.bar(labels_d, number_d, 0.5)\n",
    "\n",
    "ax.set_ylabel('Số vụ', fontdict = font2)\n",
    "ax.set_xlabel('Ngày trong tuần', fontdict = font2)\n",
    "ax.set_title('Thống kê số vụ nổ súng theo ngày trong tuần', fontdict = font1)\n",
    "\n",
    "ax.bar_label(rects1, padding=3)\n",
    "\n",
    "fig.savefig(\"day_number.png\")\n",
    "\n",
    "plt.show()"
   ]
  },
  {
   "attachments": {},
   "cell_type": "markdown",
   "metadata": {},
   "source": [
    "#### `Nhận xét:` Số lượng vụ nổ súng xảy ra nhiều trong các ngày cuối tuần (thứ 7 và chủ nhật), các ngày còn lại cũng xảy ra nhưng không chênh lệch nhau quá nhiều và không nhiều bằng 2 ngày cuối tuần."
   ]
  },
  {
   "attachments": {},
   "cell_type": "markdown",
   "metadata": {},
   "source": [
    "<h2 style='color:#6ac61f'> Câu hỏi 2: Thiệt hại về người từ các vụ nổ súng theo năm, quý, tháng và ngày trong tuần ở Mỹ là như thế nào? </h2>"
   ]
  },
  {
   "cell_type": "code",
   "execution_count": 32,
   "metadata": {},
   "outputs": [],
   "source": [
    "def incident_plot(df, col, title):\n",
    "    dict = []\n",
    "\n",
    "    for i in range(df[col].min(), df[col].max() + 1):\n",
    "        dict1 = df[df[col] == i]\n",
    "        dict.append(dict1[['Killed', 'Injured', 'Total']].sum())\n",
    "\n",
    "    labels = df[col].unique()\n",
    "    killed = []\n",
    "    injured = []\n",
    "    total = []\n",
    "\n",
    "    for i in range(len(labels)):\n",
    "        killed.append(dict[i]['Killed'])\n",
    "        injured.append(dict[i]['Injured'])\n",
    "        total.append(killed[i] + injured[i])\n",
    "\n",
    "    x = np.arange(len(labels))  # the label locations\n",
    "    width = 0.3  # the width of the bars\n",
    "\n",
    "    fig, ax = plt.subplots(figsize = (24, 12))\n",
    "    rects1 = ax.bar(x - width/2 - 0.1, killed, width, label = 'Killed')\n",
    "    rects2 = ax.bar(x + width/2 - 0.1, injured, width, label = 'Injured')\n",
    "    rects3 = ax.bar(x + width/2 + 0.2, total, width, label = 'Total')\n",
    "\n",
    "    # Add some text for labels, title and custom x-axis tick labels, etc.\n",
    "    ax.set_ylabel('Thiệt hại về người', fontsize = 20)\n",
    "    ax.set_title('Thống Kê Thiệt Hại Về Người Theo ' + title, fontsize = 30)\n",
    "    ax.set_xlabel(title, fontsize = 20)\n",
    "\n",
    "\n",
    "    # set amounts\n",
    "    ax.bar_label(rects1, padding = 3)\n",
    "    ax.bar_label(rects2, padding = 3)\n",
    "    ax.bar_label(rects3, padding = 3)\n",
    "\n",
    "    ax.set_xticks(x)\n",
    "    ax.set_xticklabels(range(df[col].min(), df[col].max() + 1))\n",
    "\n",
    "    fig.tight_layout()\n",
    "\n",
    "    fig.savefig(title)\n",
    "\n",
    "    # PLOT\n",
    "    ax.legend(fontsize = 20)\n",
    "    plt.show()"
   ]
  },
  {
   "cell_type": "code",
   "execution_count": 33,
   "metadata": {},
   "outputs": [
    {
     "data": {
      "image/png": "[encoded data removed]",
      "text/plain": [
       "<Figure size 1728x864 with 1 Axes>"
      ]
     },
     "metadata": {},
     "output_type": "display_data"
    },
    {
     "data": {
      "image/png": "[encoded data removed]",
      "text/plain": [
       "<Figure size 1728x864 with 1 Axes>"
      ]
     },
     "metadata": {},
     "output_type": "display_data"
    },
    {
     "data": {
      "image/png": "[encoded data removed]",
      "text/plain": [
       "<Figure size 1728x864 with 1 Axes>"
      ]
     },
     "metadata": {},
     "output_type": "display_data"
    }
   ],
   "source": [
    "incident_plot(df, 'Year', 'Năm')\n",
    "incident_plot(df, 'Quarter', 'Quý')\n",
    "incident_plot(df, 'Month', 'Tháng')"
   ]
  },
  {
   "cell_type": "code",
   "execution_count": 34,
   "metadata": {},
   "outputs": [
    {
     "data": {
      "image/png": "[encoded data removed]",
      "text/plain": [
       "<Figure size 1296x720 with 1 Axes>"
      ]
     },
     "metadata": {},
     "output_type": "display_data"
    }
   ],
   "source": [
    "cats = [ 'Monday', 'Tuesday', 'Wednesday', 'Thursday', 'Friday', 'Saturday', 'Sunday']\n",
    "kill_d = df.groupby(['Day_Of_Week']).sum()[\"Killed\"].reindex(cats)\n",
    "injured_d = df.groupby(['Day_Of_Week']).sum()[\"Injured\"].reindex(cats)\n",
    "total_d = df.groupby(['Day_Of_Week']).sum()[\"Total\"].reindex(cats)\n",
    "labels_d = [ 'Monday', 'Tuesday', 'Wednesday', 'Thursday', 'Friday', 'Saturday', 'Sunday']\n",
    "x_d = np.arange(1,8)\n",
    "width = 0.3\n",
    "fig, ax = plt.subplots()\n",
    "fig.set_figheight(10)\n",
    "fig.set_figwidth(18)\n",
    "\n",
    "rects1 = ax.bar(x_d - width/2, injured_d, width, label = 'Injured')\n",
    "rects2 = ax.bar(x_d + width/2, kill_d, width, label = 'Killed')\n",
    "rects3 = ax.plot(x_d, total_d, marker = \"o\", label = 'Total')\n",
    "\n",
    "ax.set_ylabel('Số người', fontdict = font2)\n",
    "ax.set_xlabel('Ngày trong tuần', fontdict = font2)\n",
    "ax.set_title('Thống kê số nạn nhân bị hại theo các ngày trong tuần', fontdict = font1)\n",
    "\n",
    "ax.set_xticks(x_d)\n",
    "ax.set_xticklabels(labels_d)\n",
    "\n",
    "ax.bar_label(rects1, padding = 3)\n",
    "ax.bar_label(rects2, padding = 3)\n",
    "\n",
    "fig.savefig(\"day_of_week_people.png\")\n",
    "\n",
    "plt.show()"
   ]
  },
  {
   "attachments": {},
   "cell_type": "markdown",
   "metadata": {},
   "source": [
    "#### ` Nhận xét: `\n",
    "\n",
    "- Điểm chung: Số người bị thương luôn nhiều hơn (gần như gấp đôi) so với số người chết. Điều này lý giải được vì sao `Injured` có hệ số tương quan tuyến tính lớn hơn `Killed` khi đối chiếu với `Total`.\n",
    "\n",
    "- `Theo năm`:\n",
    "   \n",
    "   - Thiệt hại về người có xu hướng tăng dần theo năm.\n",
    "\n",
    "   - Từ năm 2017-2018 có xu hướng giảm nhưng sau đó 1 năm đã tăng lại. Từ năm 2014-2016 và từ năm 2019-2020 có xu hương tăng mạnh rất nhiều.\n",
    "\n",
    "- `Theo quý`:\n",
    "\n",
    "   - Thiệt hại về người có xu hướng tăng dần theo quý.\n",
    "   \n",
    "   - Số lượng các nạn nhân bị hại do các vụ nổ súng gây ra theo các quý thì dường như với quý 1 và quý 4 thường có số lượng nạn nhân bị hại thấp hơn quý 2 và quý 3. Quý 1 là thấp nhất\n",
    "\n",
    "- `Theo tháng`:\n",
    "\n",
    "   - Đồ thị phân phối đối xứng. Có xu hướng chạm đỉnh ở các tháng giữa năm (5, 6, 7, 8).\n",
    "\n",
    "   - Tháng 2 có ít người bị hại nhất do các vụ nổ súng diễn ra có thể bởi vì ít ngày nhất trong các tháng của năm. \n",
    "\n",
    "   - Biểu đồ này còn thể hiện rõ các tháng ở quý 1 và quý 4 ít nạn nhân bị hại so với các tháng còn lại. \n",
    "   \n",
    "   - Các nạn nhân bị hại nhiều từ tháng 5 đến tháng 8. Đặc biệt bị hại nhiều nhất ở tháng 7 và tháng 8.\n",
    "\n",
    "- `Theo tuần `:\n",
    "\n",
    "   - Số lượng nạn nhân bị ảnh hưởng nhiều trong các ngày cuối tuần (thứ 7 và chủ nhật)\n",
    "   \n",
    "   - Các ngày còn lại cũng bị ảnh hưởng nhưng không chênh lệch nhau quá nhiều và không nhiều bằng 2 ngày cuối tuần."
   ]
  },
  {
   "attachments": {},
   "cell_type": "markdown",
   "metadata": {},
   "source": [
    "<h2 style='color:#6ac61f'> Câu hỏi 3: Số vụ xảy ra nổ súng của các bang như thế nào? </h2>"
   ]
  },
  {
   "attachments": {},
   "cell_type": "markdown",
   "metadata": {},
   "source": [
    "- Tên tiểu bang tương ứng với State_Code"
   ]
  },
  {
   "cell_type": "code",
   "execution_count": 35,
   "metadata": {},
   "outputs": [],
   "source": [
    "us_state_to_abbrev = {\n",
    "    \"Alabama\": \"AL\",\n",
    "    \"Alaska\": \"AK\",\n",
    "    \"Arizona\": \"AZ\",\n",
    "    \"Arkansas\": \"AR\",\n",
    "    \"California\": \"CA\",\n",
    "    \"Colorado\": \"CO\",\n",
    "    \"Connecticut\": \"CT\",\n",
    "    \"Delaware\": \"DE\",\n",
    "    \"Florida\": \"FL\",\n",
    "    \"Georgia\": \"GA\",\n",
    "    \"Hawaii\": \"HI\",\n",
    "    \"Idaho\": \"ID\",\n",
    "    \"Illinois\": \"IL\",\n",
    "    \"Indiana\": \"IN\",\n",
    "    \"Iowa\": \"IA\",\n",
    "    \"Kansas\": \"KS\",\n",
    "    \"Kentucky\": \"KY\",\n",
    "    \"Louisiana\": \"LA\",\n",
    "    \"Maine\": \"ME\",\n",
    "    \"Maryland\": \"MD\",\n",
    "    \"Massachusetts\": \"MA\",\n",
    "    \"Michigan\": \"MI\",\n",
    "    \"Minnesota\": \"MN\",\n",
    "    \"Mississippi\": \"MS\",\n",
    "    \"Missouri\": \"MO\",\n",
    "    \"Montana\": \"MT\",\n",
    "    \"Nebraska\": \"NE\",\n",
    "    \"Nevada\": \"NV\",\n",
    "    \"New Hampshire\": \"NH\",\n",
    "    \"New Jersey\": \"NJ\",\n",
    "    \"New Mexico\": \"NM\",\n",
    "    \"New York\": \"NY\",\n",
    "    \"North Carolina\": \"NC\",\n",
    "    \"North Dakota\": \"ND\",\n",
    "    \"Ohio\": \"OH\",\n",
    "    \"Oklahoma\": \"OK\",\n",
    "    \"Oregon\": \"OR\",\n",
    "    \"Pennsylvania\": \"PA\",\n",
    "    \"Rhode Island\": \"RI\",\n",
    "    \"South Carolina\": \"SC\",\n",
    "    \"South Dakota\": \"SD\",\n",
    "    \"Tennessee\": \"TN\",\n",
    "    \"Texas\": \"TX\",\n",
    "    \"Utah\": \"UT\",\n",
    "    \"Vermont\": \"VT\",\n",
    "    \"Virginia\": \"VA\",\n",
    "    \"Washington\": \"WA\",\n",
    "    \"West Virginia\": \"WV\",\n",
    "    \"Wisconsin\": \"WI\",\n",
    "    \"Wyoming\": \"WY\",\n",
    "    \"District of Columbia\": \"DC\",\n",
    "    \"American Samoa\": \"AS\",\n",
    "    \"Guam\": \"GU\",\n",
    "    \"Northern Mariana Islands\": \"MP\",\n",
    "    \"Puerto Rico\": \"PR\",\n",
    "    \"United States Minor Outlying Islands\": \"UM\",\n",
    "    \"U.S. Virgin Islands\": \"VI\",\n",
    "}\n",
    "inv_us_state_to_abbrev = {v: k for k, v in us_state_to_abbrev.items()}\n",
    "df[\"State_Name\"] = df[\"State_Code\"].map(inv_us_state_to_abbrev)"
   ]
  },
  {
   "attachments": {},
   "cell_type": "markdown",
   "metadata": {},
   "source": [
    "### **- Thống kê số vụ nổ súng theo các tiểu bang ở Mỹ:**"
   ]
  },
  {
   "cell_type": "code",
   "execution_count": 36,
   "metadata": {},
   "outputs": [],
   "source": [
    "data = df.groupby(['State_Code','State_Name']).size()\n",
    "data = data.reset_index()\n",
    "data = data.rename(columns={'index': 'State_Code', 0: 'Incident_Count'})"
   ]
  },
  {
   "cell_type": "code",
   "execution_count": 37,
   "metadata": {},
   "outputs": [
    {
     "data": {
      "application/vnd.plotly.v1+json": {
       "config": {
        "plotlyServerURL": "https://plot.ly"
       },
       "data": [
        {
         "coloraxis": "coloraxis",
         "geo": "geo",
         "hovertemplate": "<b>%{hovertext}</b><br><br>State_Code=%{location}<br>Incident_Count=%{z}<extra></extra>",
         "hovertext": [
          "Alaska",
          "Alabama",
          "Arkansas",
          "Arizona",
          "California",
          "Colorado",
          "Connecticut",
          "District of Columbia",
          "Delaware",
          "Florida",
          "Georgia",
          "Hawaii",
          "Iowa",
          "Idaho",
          "Illinois",
          "Indiana",
          "Kansas",
          "Kentucky",
          "Louisiana",
          "Massachusetts",
          "Maryland",
          "Maine",
          "Michigan",
          "Minnesota",
          "Missouri",
          "Mississippi",
          "Montana",
          "North Carolina",
          "North Dakota",
          "Nebraska",
          "New Hampshire",
          "New Jersey",
          "New Mexico",
          "Nevada",
          "New York",
          "Ohio",
          "Oklahoma",
          "Oregon",
          "Pennsylvania",
          "Rhode Island",
          "South Carolina",
          "South Dakota",
          "Tennessee",
          "Texas",
          "Utah",
          "Virginia",
          "Vermont",
          "Washington",
          "Wisconsin",
          "West Virginia",
          "Wyoming"
         ],
         "locationmode": "USA-states",
         "locations": [
          "AK",
          "AL",
          "AR",
          "AZ",
          "CA",
          "CO",
          "CT",
          "DC",
          "DE",
          "FL",
          "GA",
          "HI",
          "IA",
          "ID",
          "IL",
          "IN",
          "KS",
          "KY",
          "LA",
          "MA",
          "MD",
          "ME",
          "MI",
          "MN",
          "MO",
          "MS",
          "MT",
          "NC",
          "ND",
          "NE",
          "NH",
          "NJ",
          "NM",
          "NV",
          "NY",
          "OH",
          "OK",
          "OR",
          "PA",
          "RI",
          "SC",
          "SD",
          "TN",
          "TX",
          "UT",
          "VA",
          "VT",
          "WA",
          "WI",
          "WV",
          "WY"
         ],
         "name": "",
         "type": "choropleth",
         "z": [
          1627,
          9526,
          4927,
          4587,
          27376,
          5548,
          5472,
          5060,
          2772,
          23607,
          14157,
          464,
          3854,
          984,
          33006,
          10568,
          3695,
          7506,
          13783,
          8827,
          11441,
          1128,
          12279,
          4779,
          11758,
          6420,
          865,
          14543,
          722,
          2800,
          1298,
          8878,
          2965,
          3185,
          18082,
          18523,
          5729,
          3501,
          19314,
          1273,
          11163,
          779,
          13551,
          25880,
          1745,
          10759,
          623,
          5082,
          8949,
          2414,
          330
         ]
        }
       ],
       "layout": {
        "coloraxis": {
         "colorbar": {
          "title": {
           "text": "Incident_Count"
          }
         },
         "colorscale": [
          [
           0,
           "#0d0887"
          ],
          [
           0.1111111111111111,
           "#46039f"
          ],
          [
           0.2222222222222222,
           "#7201a8"
          ],
          [
           0.3333333333333333,
           "#9c179e"
          ],
          [
           0.4444444444444444,
           "#bd3786"
          ],
          [
           0.5555555555555556,
           "#d8576b"
          ],
          [
           0.6666666666666666,
           "#ed7953"
          ],
          [
           0.7777777777777778,
           "#fb9f3a"
          ],
          [
           0.8888888888888888,
           "#fdca26"
          ],
          [
           1,
           "#f0f921"
          ]
         ]
        },
        "geo": {
         "center": {},
         "domain": {
          "x": [
           0,
           1
          ],
          "y": [
           0,
           1
          ]
         },
         "scope": "usa"
        },
        "legend": {
         "tracegroupgap": 0
        },
        "margin": {
         "t": 60
        },
        "template": {
         "data": {
          "bar": [
           {
            "error_x": {
             "color": "#2a3f5f"
            },
            "error_y": {
             "color": "#2a3f5f"
            },
            "marker": {
             "line": {
              "color": "#E5ECF6",
              "width": 0.5
             },
             "pattern": {
              "fillmode": "overlay",
              "size": 10,
              "solidity": 0.2
             }
            },
            "type": "bar"
           }
          ],
          "barpolar": [
           {
            "marker": {
             "line": {
              "color": "#E5ECF6",
              "width": 0.5
             },
             "pattern": {
              "fillmode": "overlay",
              "size": 10,
              "solidity": 0.2
             }
            },
            "type": "barpolar"
           }
          ],
          "carpet": [
           {
            "aaxis": {
             "endlinecolor": "#2a3f5f",
             "gridcolor": "white",
             "linecolor": "white",
             "minorgridcolor": "white",
             "startlinecolor": "#2a3f5f"
            },
            "baxis": {
             "endlinecolor": "#2a3f5f",
             "gridcolor": "white",
             "linecolor": "white",
             "minorgridcolor": "white",
             "startlinecolor": "#2a3f5f"
            },
            "type": "carpet"
           }
          ],
          "choropleth": [
           {
            "colorbar": {
             "outlinewidth": 0,
             "ticks": ""
            },
            "type": "choropleth"
           }
          ],
          "contour": [
           {
            "colorbar": {
             "outlinewidth": 0,
             "ticks": ""
            },
            "colorscale": [
             [
              0,
              "#0d0887"
             ],
             [
              0.1111111111111111,
              "#46039f"
             ],
             [
              0.2222222222222222,
              "#7201a8"
             ],
             [
              0.3333333333333333,
              "#9c179e"
             ],
             [
              0.4444444444444444,
              "#bd3786"
             ],
             [
              0.5555555555555556,
              "#d8576b"
             ],
             [
              0.6666666666666666,
              "#ed7953"
             ],
             [
              0.7777777777777778,
              "#fb9f3a"
             ],
             [
              0.8888888888888888,
              "#fdca26"
             ],
             [
              1,
              "#f0f921"
             ]
            ],
            "type": "contour"
           }
          ],
          "contourcarpet": [
           {
            "colorbar": {
             "outlinewidth": 0,
             "ticks": ""
            },
            "type": "contourcarpet"
           }
          ],
          "heatmap": [
           {
            "colorbar": {
             "outlinewidth": 0,
             "ticks": ""
            },
            "colorscale": [
             [
              0,
              "#0d0887"
             ],
             [
              0.1111111111111111,
              "#46039f"
             ],
             [
              0.2222222222222222,
              "#7201a8"
             ],
             [
              0.3333333333333333,
              "#9c179e"
             ],
             [
              0.4444444444444444,
              "#bd3786"
             ],
             [
              0.5555555555555556,
              "#d8576b"
             ],
             [
              0.6666666666666666,
              "#ed7953"
             ],
             [
              0.7777777777777778,
              "#fb9f3a"
             ],
             [
              0.8888888888888888,
              "#fdca26"
             ],
             [
              1,
              "#f0f921"
             ]
            ],
            "type": "heatmap"
           }
          ],
          "heatmapgl": [
           {
            "colorbar": {
             "outlinewidth": 0,
             "ticks": ""
            },
            "colorscale": [
             [
              0,
              "#0d0887"
             ],
             [
              0.1111111111111111,
              "#46039f"
             ],
             [
              0.2222222222222222,
              "#7201a8"
             ],
             [
              0.3333333333333333,
              "#9c179e"
             ],
             [
              0.4444444444444444,
              "#bd3786"
             ],
             [
              0.5555555555555556,
              "#d8576b"
             ],
             [
              0.6666666666666666,
              "#ed7953"
             ],
             [
              0.7777777777777778,
              "#fb9f3a"
             ],
             [
              0.8888888888888888,
              "#fdca26"
             ],
             [
              1,
              "#f0f921"
             ]
            ],
            "type": "heatmapgl"
           }
          ],
          "histogram": [
           {
            "marker": {
             "pattern": {
              "fillmode": "overlay",
              "size": 10,
              "solidity": 0.2
             }
            },
            "type": "histogram"
           }
          ],
          "histogram2d": [
           {
            "colorbar": {
             "outlinewidth": 0,
             "ticks": ""
            },
            "colorscale": [
             [
              0,
              "#0d0887"
             ],
             [
              0.1111111111111111,
              "#46039f"
             ],
             [
              0.2222222222222222,
              "#7201a8"
             ],
             [
              0.3333333333333333,
              "#9c179e"
             ],
             [
              0.4444444444444444,
              "#bd3786"
             ],
             [
              0.5555555555555556,
              "#d8576b"
             ],
             [
              0.6666666666666666,
              "#ed7953"
             ],
             [
              0.7777777777777778,
              "#fb9f3a"
             ],
             [
              0.8888888888888888,
              "#fdca26"
             ],
             [
              1,
              "#f0f921"
             ]
            ],
            "type": "histogram2d"
           }
          ],
          "histogram2dcontour": [
           {
            "colorbar": {
             "outlinewidth": 0,
             "ticks": ""
            },
            "colorscale": [
             [
              0,
              "#0d0887"
             ],
             [
              0.1111111111111111,
              "#46039f"
             ],
             [
              0.2222222222222222,
              "#7201a8"
             ],
             [
              0.3333333333333333,
              "#9c179e"
             ],
             [
              0.4444444444444444,
              "#bd3786"
             ],
             [
              0.5555555555555556,
              "#d8576b"
             ],
             [
              0.6666666666666666,
              "#ed7953"
             ],
             [
              0.7777777777777778,
              "#fb9f3a"
             ],
             [
              0.8888888888888888,
              "#fdca26"
             ],
             [
              1,
              "#f0f921"
             ]
            ],
            "type": "histogram2dcontour"
           }
          ],
          "mesh3d": [
           {
            "colorbar": {
             "outlinewidth": 0,
             "ticks": ""
            },
            "type": "mesh3d"
           }
          ],
          "parcoords": [
           {
            "line": {
             "colorbar": {
              "outlinewidth": 0,
              "ticks": ""
             }
            },
            "type": "parcoords"
           }
          ],
          "pie": [
           {
            "automargin": true,
            "type": "pie"
           }
          ],
          "scatter": [
           {
            "fillpattern": {
             "fillmode": "overlay",
             "size": 10,
             "solidity": 0.2
            },
            "type": "scatter"
           }
          ],
          "scatter3d": [
           {
            "line": {
             "colorbar": {
              "outlinewidth": 0,
              "ticks": ""
             }
            },
            "marker": {
             "colorbar": {
              "outlinewidth": 0,
              "ticks": ""
             }
            },
            "type": "scatter3d"
           }
          ],
          "scattercarpet": [
           {
            "marker": {
             "colorbar": {
              "outlinewidth": 0,
              "ticks": ""
             }
            },
            "type": "scattercarpet"
           }
          ],
          "scattergeo": [
           {
            "marker": {
             "colorbar": {
              "outlinewidth": 0,
              "ticks": ""
             }
            },
            "type": "scattergeo"
           }
          ],
          "scattergl": [
           {
            "marker": {
             "colorbar": {
              "outlinewidth": 0,
              "ticks": ""
             }
            },
            "type": "scattergl"
           }
          ],
          "scattermapbox": [
           {
            "marker": {
             "colorbar": {
              "outlinewidth": 0,
              "ticks": ""
             }
            },
            "type": "scattermapbox"
           }
          ],
          "scatterpolar": [
           {
            "marker": {
             "colorbar": {
              "outlinewidth": 0,
              "ticks": ""
             }
            },
            "type": "scatterpolar"
           }
          ],
          "scatterpolargl": [
           {
            "marker": {
             "colorbar": {
              "outlinewidth": 0,
              "ticks": ""
             }
            },
            "type": "scatterpolargl"
           }
          ],
          "scatterternary": [
           {
            "marker": {
             "colorbar": {
              "outlinewidth": 0,
              "ticks": ""
             }
            },
            "type": "scatterternary"
           }
          ],
          "surface": [
           {
            "colorbar": {
             "outlinewidth": 0,
             "ticks": ""
            },
            "colorscale": [
             [
              0,
              "#0d0887"
             ],
             [
              0.1111111111111111,
              "#46039f"
             ],
             [
              0.2222222222222222,
              "#7201a8"
             ],
             [
              0.3333333333333333,
              "#9c179e"
             ],
             [
              0.4444444444444444,
              "#bd3786"
             ],
             [
              0.5555555555555556,
              "#d8576b"
             ],
             [
              0.6666666666666666,
              "#ed7953"
             ],
             [
              0.7777777777777778,
              "#fb9f3a"
             ],
             [
              0.8888888888888888,
              "#fdca26"
             ],
             [
              1,
              "#f0f921"
             ]
            ],
            "type": "surface"
           }
          ],
          "table": [
           {
            "cells": {
             "fill": {
              "color": "#EBF0F8"
             },
             "line": {
              "color": "white"
             }
            },
            "header": {
             "fill": {
              "color": "#C8D4E3"
             },
             "line": {
              "color": "white"
             }
            },
            "type": "table"
           }
          ]
         },
         "layout": {
          "annotationdefaults": {
           "arrowcolor": "#2a3f5f",
           "arrowhead": 0,
           "arrowwidth": 1
          },
          "autotypenumbers": "strict",
          "coloraxis": {
           "colorbar": {
            "outlinewidth": 0,
            "ticks": ""
           }
          },
          "colorscale": {
           "diverging": [
            [
             0,
             "#8e0152"
            ],
            [
             0.1,
             "#c51b7d"
            ],
            [
             0.2,
             "#de77ae"
            ],
            [
             0.3,
             "#f1b6da"
            ],
            [
             0.4,
             "#fde0ef"
            ],
            [
             0.5,
             "#f7f7f7"
            ],
            [
             0.6,
             "#e6f5d0"
            ],
            [
             0.7,
             "#b8e186"
            ],
            [
             0.8,
             "#7fbc41"
            ],
            [
             0.9,
             "#4d9221"
            ],
            [
             1,
             "#276419"
            ]
           ],
           "sequential": [
            [
             0,
             "#0d0887"
            ],
            [
             0.1111111111111111,
             "#46039f"
            ],
            [
             0.2222222222222222,
             "#7201a8"
            ],
            [
             0.3333333333333333,
             "#9c179e"
            ],
            [
             0.4444444444444444,
             "#bd3786"
            ],
            [
             0.5555555555555556,
             "#d8576b"
            ],
            [
             0.6666666666666666,
             "#ed7953"
            ],
            [
             0.7777777777777778,
             "#fb9f3a"
            ],
            [
             0.8888888888888888,
             "#fdca26"
            ],
            [
             1,
             "#f0f921"
            ]
           ],
           "sequentialminus": [
            [
             0,
             "#0d0887"
            ],
            [
             0.1111111111111111,
             "#46039f"
            ],
            [
             0.2222222222222222,
             "#7201a8"
            ],
            [
             0.3333333333333333,
             "#9c179e"
            ],
            [
             0.4444444444444444,
             "#bd3786"
            ],
            [
             0.5555555555555556,
             "#d8576b"
            ],
            [
             0.6666666666666666,
             "#ed7953"
            ],
            [
             0.7777777777777778,
             "#fb9f3a"
            ],
            [
             0.8888888888888888,
             "#fdca26"
            ],
            [
             1,
             "#f0f921"
            ]
           ]
          },
          "colorway": [
           "#636efa",
           "#EF553B",
           "#00cc96",
           "#ab63fa",
           "#FFA15A",
           "#19d3f3",
           "#FF6692",
           "#B6E880",
           "#FF97FF",
           "#FECB52"
          ],
          "font": {
           "color": "#2a3f5f"
          },
          "geo": {
           "bgcolor": "white",
           "lakecolor": "white",
           "landcolor": "#E5ECF6",
           "showlakes": true,
           "showland": true,
           "subunitcolor": "white"
          },
          "hoverlabel": {
           "align": "left"
          },
          "hovermode": "closest",
          "mapbox": {
           "style": "light"
          },
          "paper_bgcolor": "white",
          "plot_bgcolor": "#E5ECF6",
          "polar": {
           "angularaxis": {
            "gridcolor": "white",
            "linecolor": "white",
            "ticks": ""
           },
           "bgcolor": "#E5ECF6",
           "radialaxis": {
            "gridcolor": "white",
            "linecolor": "white",
            "ticks": ""
           }
          },
          "scene": {
           "xaxis": {
            "backgroundcolor": "#E5ECF6",
            "gridcolor": "white",
            "gridwidth": 2,
            "linecolor": "white",
            "showbackground": true,
            "ticks": "",
            "zerolinecolor": "white"
           },
           "yaxis": {
            "backgroundcolor": "#E5ECF6",
            "gridcolor": "white",
            "gridwidth": 2,
            "linecolor": "white",
            "showbackground": true,
            "ticks": "",
            "zerolinecolor": "white"
           },
           "zaxis": {
            "backgroundcolor": "#E5ECF6",
            "gridcolor": "white",
            "gridwidth": 2,
            "linecolor": "white",
            "showbackground": true,
            "ticks": "",
            "zerolinecolor": "white"
           }
          },
          "shapedefaults": {
           "line": {
            "color": "#2a3f5f"
           }
          },
          "ternary": {
           "aaxis": {
            "gridcolor": "white",
            "linecolor": "white",
            "ticks": ""
           },
           "baxis": {
            "gridcolor": "white",
            "linecolor": "white",
            "ticks": ""
           },
           "bgcolor": "#E5ECF6",
           "caxis": {
            "gridcolor": "white",
            "linecolor": "white",
            "ticks": ""
           }
          },
          "title": {
           "x": 0.05
          },
          "xaxis": {
           "automargin": true,
           "gridcolor": "white",
           "linecolor": "white",
           "ticks": "",
           "title": {
            "standoff": 15
           },
           "zerolinecolor": "white",
           "zerolinewidth": 2
          },
          "yaxis": {
           "automargin": true,
           "gridcolor": "white",
           "linecolor": "white",
           "ticks": "",
           "title": {
            "standoff": 15
           },
           "zerolinecolor": "white",
           "zerolinewidth": 2
          }
         }
        },
        "title": {
         "text": "Number of gun violence incidents by state",
         "x": 0.5,
         "xanchor": "center",
         "yanchor": "top"
        }
       }
      }
     },
     "metadata": {},
     "output_type": "display_data"
    }
   ],
   "source": [
    "fig = px.choropleth(data,\n",
    "                    locations='State_Code',\n",
    "                    hover_name='State_Name',\n",
    "                    color='Incident_Count',\n",
    "                    locationmode='USA-states',\n",
    "                    scope='usa')\n",
    "fig.update_layout(\n",
    "    title={'text':'Number of gun violence incidents by state',\n",
    "           'xanchor':'center',\n",
    "           'yanchor':'top',\n",
    "           'x':0.5})\n",
    "\n",
    "fig.show()\n"
   ]
  },
  {
   "attachments": {},
   "cell_type": "markdown",
   "metadata": {},
   "source": [
    "### **- Thống kê trung bình số người bị thương trong mỗi vụ nổ súng:**"
   ]
  },
  {
   "cell_type": "code",
   "execution_count": 38,
   "metadata": {},
   "outputs": [],
   "source": [
    "data = df.groupby(['State_Code','State_Name'])['Injured'].mean()\n",
    "data = data.reset_index()\n",
    "data = data.rename(columns={'index': 'State_Code', 0: 'Incident_Count'})"
   ]
  },
  {
   "cell_type": "code",
   "execution_count": 39,
   "metadata": {},
   "outputs": [
    {
     "data": {
      "application/vnd.plotly.v1+json": {
       "config": {
        "plotlyServerURL": "https://plot.ly"
       },
       "data": [
        {
         "coloraxis": "coloraxis",
         "geo": "geo",
         "hovertemplate": "<b>%{hovertext}</b><br><br>State_Code=%{location}<br>Injured=%{z}<extra></extra>",
         "hovertext": [
          "Alaska",
          "Alabama",
          "Arkansas",
          "Arizona",
          "California",
          "Colorado",
          "Connecticut",
          "District of Columbia",
          "Delaware",
          "Florida",
          "Georgia",
          "Hawaii",
          "Iowa",
          "Idaho",
          "Illinois",
          "Indiana",
          "Kansas",
          "Kentucky",
          "Louisiana",
          "Massachusetts",
          "Maryland",
          "Maine",
          "Michigan",
          "Minnesota",
          "Missouri",
          "Mississippi",
          "Montana",
          "North Carolina",
          "North Dakota",
          "Nebraska",
          "New Hampshire",
          "New Jersey",
          "New Mexico",
          "Nevada",
          "New York",
          "Ohio",
          "Oklahoma",
          "Oregon",
          "Pennsylvania",
          "Rhode Island",
          "South Carolina",
          "South Dakota",
          "Tennessee",
          "Texas",
          "Utah",
          "Virginia",
          "Vermont",
          "Washington",
          "Wisconsin",
          "West Virginia",
          "Wyoming"
         ],
         "locationmode": "USA-states",
         "locations": [
          "AK",
          "AL",
          "AR",
          "AZ",
          "CA",
          "CO",
          "CT",
          "DC",
          "DE",
          "FL",
          "GA",
          "HI",
          "IA",
          "ID",
          "IL",
          "IN",
          "KS",
          "KY",
          "LA",
          "MA",
          "MD",
          "ME",
          "MI",
          "MN",
          "MO",
          "MS",
          "MT",
          "NC",
          "ND",
          "NE",
          "NH",
          "NJ",
          "NM",
          "NV",
          "NY",
          "OH",
          "OK",
          "OR",
          "PA",
          "RI",
          "SC",
          "SD",
          "TN",
          "TX",
          "UT",
          "VA",
          "VT",
          "WA",
          "WI",
          "WV",
          "WY"
         ],
         "name": "",
         "type": "choropleth",
         "z": [
          0.29379225568531037,
          0.606970396808734,
          0.5372437588796428,
          0.5086112927839547,
          0.548655756867329,
          0.47981254506128335,
          0.49360380116959063,
          0.6847826086956522,
          0.5465367965367965,
          0.5411106875079426,
          0.541075086529632,
          0.3706896551724138,
          0.4055526725480021,
          0.3119918699186992,
          0.8143973822941284,
          0.5864875094625284,
          0.4993234100135318,
          0.5238475885957901,
          0.6311398099107597,
          0.33510819077829385,
          0.6238965125426099,
          0.21808510638297873,
          0.6119390829872139,
          0.5421636325591128,
          0.5971253614560299,
          0.5809968847352025,
          0.3202312138728324,
          0.6109468472804785,
          0.2950138504155125,
          0.43964285714285717,
          0.1933744221879815,
          0.5756927235863933,
          0.38043844856661047,
          0.6530612244897959,
          0.616635327950448,
          0.6132915834368083,
          0.5184150811659975,
          0.4198800342759212,
          0.6919333126229678,
          0.4257659073055774,
          0.5364149422198333,
          0.2644415917843389,
          0.6300642019039185,
          0.5478361669242658,
          0.430945558739255,
          0.6616785946649317,
          0.20064205457463885,
          0.4883903974813066,
          0.5789473684210527,
          0.45567522783761394,
          0.2727272727272727
         ]
        }
       ],
       "layout": {
        "coloraxis": {
         "colorbar": {
          "title": {
           "text": "Injured"
          }
         },
         "colorscale": [
          [
           0,
           "#0d0887"
          ],
          [
           0.1111111111111111,
           "#46039f"
          ],
          [
           0.2222222222222222,
           "#7201a8"
          ],
          [
           0.3333333333333333,
           "#9c179e"
          ],
          [
           0.4444444444444444,
           "#bd3786"
          ],
          [
           0.5555555555555556,
           "#d8576b"
          ],
          [
           0.6666666666666666,
           "#ed7953"
          ],
          [
           0.7777777777777778,
           "#fb9f3a"
          ],
          [
           0.8888888888888888,
           "#fdca26"
          ],
          [
           1,
           "#f0f921"
          ]
         ]
        },
        "geo": {
         "center": {},
         "domain": {
          "x": [
           0,
           1
          ],
          "y": [
           0,
           1
          ]
         },
         "scope": "usa"
        },
        "legend": {
         "tracegroupgap": 0
        },
        "margin": {
         "t": 60
        },
        "template": {
         "data": {
          "bar": [
           {
            "error_x": {
             "color": "#2a3f5f"
            },
            "error_y": {
             "color": "#2a3f5f"
            },
            "marker": {
             "line": {
              "color": "#E5ECF6",
              "width": 0.5
             },
             "pattern": {
              "fillmode": "overlay",
              "size": 10,
              "solidity": 0.2
             }
            },
            "type": "bar"
           }
          ],
          "barpolar": [
           {
            "marker": {
             "line": {
              "color": "#E5ECF6",
              "width": 0.5
             },
             "pattern": {
              "fillmode": "overlay",
              "size": 10,
              "solidity": 0.2
             }
            },
            "type": "barpolar"
           }
          ],
          "carpet": [
           {
            "aaxis": {
             "endlinecolor": "#2a3f5f",
             "gridcolor": "white",
             "linecolor": "white",
             "minorgridcolor": "white",
             "startlinecolor": "#2a3f5f"
            },
            "baxis": {
             "endlinecolor": "#2a3f5f",
             "gridcolor": "white",
             "linecolor": "white",
             "minorgridcolor": "white",
             "startlinecolor": "#2a3f5f"
            },
            "type": "carpet"
           }
          ],
          "choropleth": [
           {
            "colorbar": {
             "outlinewidth": 0,
             "ticks": ""
            },
            "type": "choropleth"
           }
          ],
          "contour": [
           {
            "colorbar": {
             "outlinewidth": 0,
             "ticks": ""
            },
            "colorscale": [
             [
              0,
              "#0d0887"
             ],
             [
              0.1111111111111111,
              "#46039f"
             ],
             [
              0.2222222222222222,
              "#7201a8"
             ],
             [
              0.3333333333333333,
              "#9c179e"
             ],
             [
              0.4444444444444444,
              "#bd3786"
             ],
             [
              0.5555555555555556,
              "#d8576b"
             ],
             [
              0.6666666666666666,
              "#ed7953"
             ],
             [
              0.7777777777777778,
              "#fb9f3a"
             ],
             [
              0.8888888888888888,
              "#fdca26"
             ],
             [
              1,
              "#f0f921"
             ]
            ],
            "type": "contour"
           }
          ],
          "contourcarpet": [
           {
            "colorbar": {
             "outlinewidth": 0,
             "ticks": ""
            },
            "type": "contourcarpet"
           }
          ],
          "heatmap": [
           {
            "colorbar": {
             "outlinewidth": 0,
             "ticks": ""
            },
            "colorscale": [
             [
              0,
              "#0d0887"
             ],
             [
              0.1111111111111111,
              "#46039f"
             ],
             [
              0.2222222222222222,
              "#7201a8"
             ],
             [
              0.3333333333333333,
              "#9c179e"
             ],
             [
              0.4444444444444444,
              "#bd3786"
             ],
             [
              0.5555555555555556,
              "#d8576b"
             ],
             [
              0.6666666666666666,
              "#ed7953"
             ],
             [
              0.7777777777777778,
              "#fb9f3a"
             ],
             [
              0.8888888888888888,
              "#fdca26"
             ],
             [
              1,
              "#f0f921"
             ]
            ],
            "type": "heatmap"
           }
          ],
          "heatmapgl": [
           {
            "colorbar": {
             "outlinewidth": 0,
             "ticks": ""
            },
            "colorscale": [
             [
              0,
              "#0d0887"
             ],
             [
              0.1111111111111111,
              "#46039f"
             ],
             [
              0.2222222222222222,
              "#7201a8"
             ],
             [
              0.3333333333333333,
              "#9c179e"
             ],
             [
              0.4444444444444444,
              "#bd3786"
             ],
             [
              0.5555555555555556,
              "#d8576b"
             ],
             [
              0.6666666666666666,
              "#ed7953"
             ],
             [
              0.7777777777777778,
              "#fb9f3a"
             ],
             [
              0.8888888888888888,
              "#fdca26"
             ],
             [
              1,
              "#f0f921"
             ]
            ],
            "type": "heatmapgl"
           }
          ],
          "histogram": [
           {
            "marker": {
             "pattern": {
              "fillmode": "overlay",
              "size": 10,
              "solidity": 0.2
             }
            },
            "type": "histogram"
           }
          ],
          "histogram2d": [
           {
            "colorbar": {
             "outlinewidth": 0,
             "ticks": ""
            },
            "colorscale": [
             [
              0,
              "#0d0887"
             ],
             [
              0.1111111111111111,
              "#46039f"
             ],
             [
              0.2222222222222222,
              "#7201a8"
             ],
             [
              0.3333333333333333,
              "#9c179e"
             ],
             [
              0.4444444444444444,
              "#bd3786"
             ],
             [
              0.5555555555555556,
              "#d8576b"
             ],
             [
              0.6666666666666666,
              "#ed7953"
             ],
             [
              0.7777777777777778,
              "#fb9f3a"
             ],
             [
              0.8888888888888888,
              "#fdca26"
             ],
             [
              1,
              "#f0f921"
             ]
            ],
            "type": "histogram2d"
           }
          ],
          "histogram2dcontour": [
           {
            "colorbar": {
             "outlinewidth": 0,
             "ticks": ""
            },
            "colorscale": [
             [
              0,
              "#0d0887"
             ],
             [
              0.1111111111111111,
              "#46039f"
             ],
             [
              0.2222222222222222,
              "#7201a8"
             ],
             [
              0.3333333333333333,
              "#9c179e"
             ],
             [
              0.4444444444444444,
              "#bd3786"
             ],
             [
              0.5555555555555556,
              "#d8576b"
             ],
             [
              0.6666666666666666,
              "#ed7953"
             ],
             [
              0.7777777777777778,
              "#fb9f3a"
             ],
             [
              0.8888888888888888,
              "#fdca26"
             ],
             [
              1,
              "#f0f921"
             ]
            ],
            "type": "histogram2dcontour"
           }
          ],
          "mesh3d": [
           {
            "colorbar": {
             "outlinewidth": 0,
             "ticks": ""
            },
            "type": "mesh3d"
           }
          ],
          "parcoords": [
           {
            "line": {
             "colorbar": {
              "outlinewidth": 0,
              "ticks": ""
             }
            },
            "type": "parcoords"
           }
          ],
          "pie": [
           {
            "automargin": true,
            "type": "pie"
           }
          ],
          "scatter": [
           {
            "fillpattern": {
             "fillmode": "overlay",
             "size": 10,
             "solidity": 0.2
            },
            "type": "scatter"
           }
          ],
          "scatter3d": [
           {
            "line": {
             "colorbar": {
              "outlinewidth": 0,
              "ticks": ""
             }
            },
            "marker": {
             "colorbar": {
              "outlinewidth": 0,
              "ticks": ""
             }
            },
            "type": "scatter3d"
           }
          ],
          "scattercarpet": [
           {
            "marker": {
             "colorbar": {
              "outlinewidth": 0,
              "ticks": ""
             }
            },
            "type": "scattercarpet"
           }
          ],
          "scattergeo": [
           {
            "marker": {
             "colorbar": {
              "outlinewidth": 0,
              "ticks": ""
             }
            },
            "type": "scattergeo"
           }
          ],
          "scattergl": [
           {
            "marker": {
             "colorbar": {
              "outlinewidth": 0,
              "ticks": ""
             }
            },
            "type": "scattergl"
           }
          ],
          "scattermapbox": [
           {
            "marker": {
             "colorbar": {
              "outlinewidth": 0,
              "ticks": ""
             }
            },
            "type": "scattermapbox"
           }
          ],
          "scatterpolar": [
           {
            "marker": {
             "colorbar": {
              "outlinewidth": 0,
              "ticks": ""
             }
            },
            "type": "scatterpolar"
           }
          ],
          "scatterpolargl": [
           {
            "marker": {
             "colorbar": {
              "outlinewidth": 0,
              "ticks": ""
             }
            },
            "type": "scatterpolargl"
           }
          ],
          "scatterternary": [
           {
            "marker": {
             "colorbar": {
              "outlinewidth": 0,
              "ticks": ""
             }
            },
            "type": "scatterternary"
           }
          ],
          "surface": [
           {
            "colorbar": {
             "outlinewidth": 0,
             "ticks": ""
            },
            "colorscale": [
             [
              0,
              "#0d0887"
             ],
             [
              0.1111111111111111,
              "#46039f"
             ],
             [
              0.2222222222222222,
              "#7201a8"
             ],
             [
              0.3333333333333333,
              "#9c179e"
             ],
             [
              0.4444444444444444,
              "#bd3786"
             ],
             [
              0.5555555555555556,
              "#d8576b"
             ],
             [
              0.6666666666666666,
              "#ed7953"
             ],
             [
              0.7777777777777778,
              "#fb9f3a"
             ],
             [
              0.8888888888888888,
              "#fdca26"
             ],
             [
              1,
              "#f0f921"
             ]
            ],
            "type": "surface"
           }
          ],
          "table": [
           {
            "cells": {
             "fill": {
              "color": "#EBF0F8"
             },
             "line": {
              "color": "white"
             }
            },
            "header": {
             "fill": {
              "color": "#C8D4E3"
             },
             "line": {
              "color": "white"
             }
            },
            "type": "table"
           }
          ]
         },
         "layout": {
          "annotationdefaults": {
           "arrowcolor": "#2a3f5f",
           "arrowhead": 0,
           "arrowwidth": 1
          },
          "autotypenumbers": "strict",
          "coloraxis": {
           "colorbar": {
            "outlinewidth": 0,
            "ticks": ""
           }
          },
          "colorscale": {
           "diverging": [
            [
             0,
             "#8e0152"
            ],
            [
             0.1,
             "#c51b7d"
            ],
            [
             0.2,
             "#de77ae"
            ],
            [
             0.3,
             "#f1b6da"
            ],
            [
             0.4,
             "#fde0ef"
            ],
            [
             0.5,
             "#f7f7f7"
            ],
            [
             0.6,
             "#e6f5d0"
            ],
            [
             0.7,
             "#b8e186"
            ],
            [
             0.8,
             "#7fbc41"
            ],
            [
             0.9,
             "#4d9221"
            ],
            [
             1,
             "#276419"
            ]
           ],
           "sequential": [
            [
             0,
             "#0d0887"
            ],
            [
             0.1111111111111111,
             "#46039f"
            ],
            [
             0.2222222222222222,
             "#7201a8"
            ],
            [
             0.3333333333333333,
             "#9c179e"
            ],
            [
             0.4444444444444444,
             "#bd3786"
            ],
            [
             0.5555555555555556,
             "#d8576b"
            ],
            [
             0.6666666666666666,
             "#ed7953"
            ],
            [
             0.7777777777777778,
             "#fb9f3a"
            ],
            [
             0.8888888888888888,
             "#fdca26"
            ],
            [
             1,
             "#f0f921"
            ]
           ],
           "sequentialminus": [
            [
             0,
             "#0d0887"
            ],
            [
             0.1111111111111111,
             "#46039f"
            ],
            [
             0.2222222222222222,
             "#7201a8"
            ],
            [
             0.3333333333333333,
             "#9c179e"
            ],
            [
             0.4444444444444444,
             "#bd3786"
            ],
            [
             0.5555555555555556,
             "#d8576b"
            ],
            [
             0.6666666666666666,
             "#ed7953"
            ],
            [
             0.7777777777777778,
             "#fb9f3a"
            ],
            [
             0.8888888888888888,
             "#fdca26"
            ],
            [
             1,
             "#f0f921"
            ]
           ]
          },
          "colorway": [
           "#636efa",
           "#EF553B",
           "#00cc96",
           "#ab63fa",
           "#FFA15A",
           "#19d3f3",
           "#FF6692",
           "#B6E880",
           "#FF97FF",
           "#FECB52"
          ],
          "font": {
           "color": "#2a3f5f"
          },
          "geo": {
           "bgcolor": "white",
           "lakecolor": "white",
           "landcolor": "#E5ECF6",
           "showlakes": true,
           "showland": true,
           "subunitcolor": "white"
          },
          "hoverlabel": {
           "align": "left"
          },
          "hovermode": "closest",
          "mapbox": {
           "style": "light"
          },
          "paper_bgcolor": "white",
          "plot_bgcolor": "#E5ECF6",
          "polar": {
           "angularaxis": {
            "gridcolor": "white",
            "linecolor": "white",
            "ticks": ""
           },
           "bgcolor": "#E5ECF6",
           "radialaxis": {
            "gridcolor": "white",
            "linecolor": "white",
            "ticks": ""
           }
          },
          "scene": {
           "xaxis": {
            "backgroundcolor": "#E5ECF6",
            "gridcolor": "white",
            "gridwidth": 2,
            "linecolor": "white",
            "showbackground": true,
            "ticks": "",
            "zerolinecolor": "white"
           },
           "yaxis": {
            "backgroundcolor": "#E5ECF6",
            "gridcolor": "white",
            "gridwidth": 2,
            "linecolor": "white",
            "showbackground": true,
            "ticks": "",
            "zerolinecolor": "white"
           },
           "zaxis": {
            "backgroundcolor": "#E5ECF6",
            "gridcolor": "white",
            "gridwidth": 2,
            "linecolor": "white",
            "showbackground": true,
            "ticks": "",
            "zerolinecolor": "white"
           }
          },
          "shapedefaults": {
           "line": {
            "color": "#2a3f5f"
           }
          },
          "ternary": {
           "aaxis": {
            "gridcolor": "white",
            "linecolor": "white",
            "ticks": ""
           },
           "baxis": {
            "gridcolor": "white",
            "linecolor": "white",
            "ticks": ""
           },
           "bgcolor": "#E5ECF6",
           "caxis": {
            "gridcolor": "white",
            "linecolor": "white",
            "ticks": ""
           }
          },
          "title": {
           "x": 0.05
          },
          "xaxis": {
           "automargin": true,
           "gridcolor": "white",
           "linecolor": "white",
           "ticks": "",
           "title": {
            "standoff": 15
           },
           "zerolinecolor": "white",
           "zerolinewidth": 2
          },
          "yaxis": {
           "automargin": true,
           "gridcolor": "white",
           "linecolor": "white",
           "ticks": "",
           "title": {
            "standoff": 15
           },
           "zerolinecolor": "white",
           "zerolinewidth": 2
          }
         }
        },
        "title": {
         "text": "Trung bình số người bị thương trong mỗi vụ nổ súng",
         "x": 0.5,
         "xanchor": "center",
         "yanchor": "top"
        }
       }
      }
     },
     "metadata": {},
     "output_type": "display_data"
    }
   ],
   "source": [
    "fig = px.choropleth(data,\n",
    "                    locations = 'State_Code',\n",
    "                    hover_name = 'State_Name',\n",
    "                    color = 'Injured',\n",
    "                    locationmode = 'USA-states', \n",
    "                    scope = 'usa')\n",
    "\n",
    "fig.update_layout(\n",
    "    title={'text':'Trung bình số người bị thương trong mỗi vụ nổ súng',\n",
    "           'xanchor':'center',\n",
    "           'yanchor':'top',\n",
    "           'x':0.5})\n",
    "\n",
    "fig.show()"
   ]
  },
  {
   "attachments": {},
   "cell_type": "markdown",
   "metadata": {},
   "source": [
    "### **- Thống kê trung bình số người chết trong mỗi vụ nổ súng:**"
   ]
  },
  {
   "cell_type": "code",
   "execution_count": 40,
   "metadata": {},
   "outputs": [],
   "source": [
    "data = df.groupby(['State_Code','State_Name'])['Killed'].mean()\n",
    "data = data.reset_index()\n",
    "data = data.rename(columns={'index': 'State_Code', 0: 'Incident_Count'})"
   ]
  },
  {
   "cell_type": "code",
   "execution_count": 41,
   "metadata": {},
   "outputs": [
    {
     "data": {
      "application/vnd.plotly.v1+json": {
       "config": {
        "plotlyServerURL": "https://plot.ly"
       },
       "data": [
        {
         "coloraxis": "coloraxis",
         "geo": "geo",
         "hovertemplate": "<b>%{hovertext}</b><br><br>State_Code=%{location}<br>Killed=%{z}<extra></extra>",
         "hovertext": [
          "Alaska",
          "Alabama",
          "Arkansas",
          "Arizona",
          "California",
          "Colorado",
          "Connecticut",
          "District of Columbia",
          "Delaware",
          "Florida",
          "Georgia",
          "Hawaii",
          "Iowa",
          "Idaho",
          "Illinois",
          "Indiana",
          "Kansas",
          "Kentucky",
          "Louisiana",
          "Massachusetts",
          "Maryland",
          "Maine",
          "Michigan",
          "Minnesota",
          "Missouri",
          "Mississippi",
          "Montana",
          "North Carolina",
          "North Dakota",
          "Nebraska",
          "New Hampshire",
          "New Jersey",
          "New Mexico",
          "Nevada",
          "New York",
          "Ohio",
          "Oklahoma",
          "Oregon",
          "Pennsylvania",
          "Rhode Island",
          "South Carolina",
          "South Dakota",
          "Tennessee",
          "Texas",
          "Utah",
          "Virginia",
          "Vermont",
          "Washington",
          "Wisconsin",
          "West Virginia",
          "Wyoming"
         ],
         "locationmode": "USA-states",
         "locations": [
          "AK",
          "AL",
          "AR",
          "AZ",
          "CA",
          "CO",
          "CT",
          "DC",
          "DE",
          "FL",
          "GA",
          "HI",
          "IA",
          "ID",
          "IL",
          "IN",
          "KS",
          "KY",
          "LA",
          "MA",
          "MD",
          "ME",
          "MI",
          "MN",
          "MO",
          "MS",
          "MT",
          "NC",
          "ND",
          "NE",
          "NH",
          "NJ",
          "NM",
          "NV",
          "NY",
          "OH",
          "OK",
          "OR",
          "PA",
          "RI",
          "SC",
          "SD",
          "TN",
          "TX",
          "UT",
          "VA",
          "VT",
          "WA",
          "WI",
          "WV",
          "WY"
         ],
         "name": "",
         "type": "choropleth",
         "z": [
          0.2636754763368162,
          0.39743858912450136,
          0.33184493606657195,
          0.5120994113799869,
          0.39921829339567505,
          0.308759913482336,
          0.12810672514619884,
          0.21126482213438735,
          0.1634199134199134,
          0.32409878425890626,
          0.3666737303100939,
          0.31896551724137934,
          0.14478463933575506,
          0.32215447154471544,
          0.2132642549839423,
          0.316332323996972,
          0.2936400541271989,
          0.29429789501731946,
          0.3267068127403323,
          0.10195989577432876,
          0.3150074294205052,
          0.18439716312056736,
          0.28911149116377555,
          0.20883029922577945,
          0.3798265011056302,
          0.39345794392523364,
          0.34104046242774566,
          0.31671594581585644,
          0.19806094182825484,
          0.16142857142857142,
          0.13482280431432975,
          0.2282045505744537,
          0.39494097807757167,
          0.47566718995290425,
          0.19511116026988165,
          0.28046212816498406,
          0.32134753010996686,
          0.2564981433876035,
          0.26602464533499015,
          0.11154752553024352,
          0.3000089581653677,
          0.21694480102695765,
          0.29547634860895877,
          0.4133693972179289,
          0.32550143266475645,
          0.2852495585091551,
          0.18619582664526485,
          0.320543093270366,
          0.20270421276120237,
          0.2796188898094449,
          0.39090909090909093
         ]
        }
       ],
       "layout": {
        "coloraxis": {
         "colorbar": {
          "title": {
           "text": "Killed"
          }
         },
         "colorscale": [
          [
           0,
           "#0d0887"
          ],
          [
           0.1111111111111111,
           "#46039f"
          ],
          [
           0.2222222222222222,
           "#7201a8"
          ],
          [
           0.3333333333333333,
           "#9c179e"
          ],
          [
           0.4444444444444444,
           "#bd3786"
          ],
          [
           0.5555555555555556,
           "#d8576b"
          ],
          [
           0.6666666666666666,
           "#ed7953"
          ],
          [
           0.7777777777777778,
           "#fb9f3a"
          ],
          [
           0.8888888888888888,
           "#fdca26"
          ],
          [
           1,
           "#f0f921"
          ]
         ]
        },
        "geo": {
         "center": {},
         "domain": {
          "x": [
           0,
           1
          ],
          "y": [
           0,
           1
          ]
         },
         "scope": "usa"
        },
        "legend": {
         "tracegroupgap": 0
        },
        "margin": {
         "t": 60
        },
        "template": {
         "data": {
          "bar": [
           {
            "error_x": {
             "color": "#2a3f5f"
            },
            "error_y": {
             "color": "#2a3f5f"
            },
            "marker": {
             "line": {
              "color": "#E5ECF6",
              "width": 0.5
             },
             "pattern": {
              "fillmode": "overlay",
              "size": 10,
              "solidity": 0.2
             }
            },
            "type": "bar"
           }
          ],
          "barpolar": [
           {
            "marker": {
             "line": {
              "color": "#E5ECF6",
              "width": 0.5
             },
             "pattern": {
              "fillmode": "overlay",
              "size": 10,
              "solidity": 0.2
             }
            },
            "type": "barpolar"
           }
          ],
          "carpet": [
           {
            "aaxis": {
             "endlinecolor": "#2a3f5f",
             "gridcolor": "white",
             "linecolor": "white",
             "minorgridcolor": "white",
             "startlinecolor": "#2a3f5f"
            },
            "baxis": {
             "endlinecolor": "#2a3f5f",
             "gridcolor": "white",
             "linecolor": "white",
             "minorgridcolor": "white",
             "startlinecolor": "#2a3f5f"
            },
            "type": "carpet"
           }
          ],
          "choropleth": [
           {
            "colorbar": {
             "outlinewidth": 0,
             "ticks": ""
            },
            "type": "choropleth"
           }
          ],
          "contour": [
           {
            "colorbar": {
             "outlinewidth": 0,
             "ticks": ""
            },
            "colorscale": [
             [
              0,
              "#0d0887"
             ],
             [
              0.1111111111111111,
              "#46039f"
             ],
             [
              0.2222222222222222,
              "#7201a8"
             ],
             [
              0.3333333333333333,
              "#9c179e"
             ],
             [
              0.4444444444444444,
              "#bd3786"
             ],
             [
              0.5555555555555556,
              "#d8576b"
             ],
             [
              0.6666666666666666,
              "#ed7953"
             ],
             [
              0.7777777777777778,
              "#fb9f3a"
             ],
             [
              0.8888888888888888,
              "#fdca26"
             ],
             [
              1,
              "#f0f921"
             ]
            ],
            "type": "contour"
           }
          ],
          "contourcarpet": [
           {
            "colorbar": {
             "outlinewidth": 0,
             "ticks": ""
            },
            "type": "contourcarpet"
           }
          ],
          "heatmap": [
           {
            "colorbar": {
             "outlinewidth": 0,
             "ticks": ""
            },
            "colorscale": [
             [
              0,
              "#0d0887"
             ],
             [
              0.1111111111111111,
              "#46039f"
             ],
             [
              0.2222222222222222,
              "#7201a8"
             ],
             [
              0.3333333333333333,
              "#9c179e"
             ],
             [
              0.4444444444444444,
              "#bd3786"
             ],
             [
              0.5555555555555556,
              "#d8576b"
             ],
             [
              0.6666666666666666,
              "#ed7953"
             ],
             [
              0.7777777777777778,
              "#fb9f3a"
             ],
             [
              0.8888888888888888,
              "#fdca26"
             ],
             [
              1,
              "#f0f921"
             ]
            ],
            "type": "heatmap"
           }
          ],
          "heatmapgl": [
           {
            "colorbar": {
             "outlinewidth": 0,
             "ticks": ""
            },
            "colorscale": [
             [
              0,
              "#0d0887"
             ],
             [
              0.1111111111111111,
              "#46039f"
             ],
             [
              0.2222222222222222,
              "#7201a8"
             ],
             [
              0.3333333333333333,
              "#9c179e"
             ],
             [
              0.4444444444444444,
              "#bd3786"
             ],
             [
              0.5555555555555556,
              "#d8576b"
             ],
             [
              0.6666666666666666,
              "#ed7953"
             ],
             [
              0.7777777777777778,
              "#fb9f3a"
             ],
             [
              0.8888888888888888,
              "#fdca26"
             ],
             [
              1,
              "#f0f921"
             ]
            ],
            "type": "heatmapgl"
           }
          ],
          "histogram": [
           {
            "marker": {
             "pattern": {
              "fillmode": "overlay",
              "size": 10,
              "solidity": 0.2
             }
            },
            "type": "histogram"
           }
          ],
          "histogram2d": [
           {
            "colorbar": {
             "outlinewidth": 0,
             "ticks": ""
            },
            "colorscale": [
             [
              0,
              "#0d0887"
             ],
             [
              0.1111111111111111,
              "#46039f"
             ],
             [
              0.2222222222222222,
              "#7201a8"
             ],
             [
              0.3333333333333333,
              "#9c179e"
             ],
             [
              0.4444444444444444,
              "#bd3786"
             ],
             [
              0.5555555555555556,
              "#d8576b"
             ],
             [
              0.6666666666666666,
              "#ed7953"
             ],
             [
              0.7777777777777778,
              "#fb9f3a"
             ],
             [
              0.8888888888888888,
              "#fdca26"
             ],
             [
              1,
              "#f0f921"
             ]
            ],
            "type": "histogram2d"
           }
          ],
          "histogram2dcontour": [
           {
            "colorbar": {
             "outlinewidth": 0,
             "ticks": ""
            },
            "colorscale": [
             [
              0,
              "#0d0887"
             ],
             [
              0.1111111111111111,
              "#46039f"
             ],
             [
              0.2222222222222222,
              "#7201a8"
             ],
             [
              0.3333333333333333,
              "#9c179e"
             ],
             [
              0.4444444444444444,
              "#bd3786"
             ],
             [
              0.5555555555555556,
              "#d8576b"
             ],
             [
              0.6666666666666666,
              "#ed7953"
             ],
             [
              0.7777777777777778,
              "#fb9f3a"
             ],
             [
              0.8888888888888888,
              "#fdca26"
             ],
             [
              1,
              "#f0f921"
             ]
            ],
            "type": "histogram2dcontour"
           }
          ],
          "mesh3d": [
           {
            "colorbar": {
             "outlinewidth": 0,
             "ticks": ""
            },
            "type": "mesh3d"
           }
          ],
          "parcoords": [
           {
            "line": {
             "colorbar": {
              "outlinewidth": 0,
              "ticks": ""
             }
            },
            "type": "parcoords"
           }
          ],
          "pie": [
           {
            "automargin": true,
            "type": "pie"
           }
          ],
          "scatter": [
           {
            "fillpattern": {
             "fillmode": "overlay",
             "size": 10,
             "solidity": 0.2
            },
            "type": "scatter"
           }
          ],
          "scatter3d": [
           {
            "line": {
             "colorbar": {
              "outlinewidth": 0,
              "ticks": ""
             }
            },
            "marker": {
             "colorbar": {
              "outlinewidth": 0,
              "ticks": ""
             }
            },
            "type": "scatter3d"
           }
          ],
          "scattercarpet": [
           {
            "marker": {
             "colorbar": {
              "outlinewidth": 0,
              "ticks": ""
             }
            },
            "type": "scattercarpet"
           }
          ],
          "scattergeo": [
           {
            "marker": {
             "colorbar": {
              "outlinewidth": 0,
              "ticks": ""
             }
            },
            "type": "scattergeo"
           }
          ],
          "scattergl": [
           {
            "marker": {
             "colorbar": {
              "outlinewidth": 0,
              "ticks": ""
             }
            },
            "type": "scattergl"
           }
          ],
          "scattermapbox": [
           {
            "marker": {
             "colorbar": {
              "outlinewidth": 0,
              "ticks": ""
             }
            },
            "type": "scattermapbox"
           }
          ],
          "scatterpolar": [
           {
            "marker": {
             "colorbar": {
              "outlinewidth": 0,
              "ticks": ""
             }
            },
            "type": "scatterpolar"
           }
          ],
          "scatterpolargl": [
           {
            "marker": {
             "colorbar": {
              "outlinewidth": 0,
              "ticks": ""
             }
            },
            "type": "scatterpolargl"
           }
          ],
          "scatterternary": [
           {
            "marker": {
             "colorbar": {
              "outlinewidth": 0,
              "ticks": ""
             }
            },
            "type": "scatterternary"
           }
          ],
          "surface": [
           {
            "colorbar": {
             "outlinewidth": 0,
             "ticks": ""
            },
            "colorscale": [
             [
              0,
              "#0d0887"
             ],
             [
              0.1111111111111111,
              "#46039f"
             ],
             [
              0.2222222222222222,
              "#7201a8"
             ],
             [
              0.3333333333333333,
              "#9c179e"
             ],
             [
              0.4444444444444444,
              "#bd3786"
             ],
             [
              0.5555555555555556,
              "#d8576b"
             ],
             [
              0.6666666666666666,
              "#ed7953"
             ],
             [
              0.7777777777777778,
              "#fb9f3a"
             ],
             [
              0.8888888888888888,
              "#fdca26"
             ],
             [
              1,
              "#f0f921"
             ]
            ],
            "type": "surface"
           }
          ],
          "table": [
           {
            "cells": {
             "fill": {
              "color": "#EBF0F8"
             },
             "line": {
              "color": "white"
             }
            },
            "header": {
             "fill": {
              "color": "#C8D4E3"
             },
             "line": {
              "color": "white"
             }
            },
            "type": "table"
           }
          ]
         },
         "layout": {
          "annotationdefaults": {
           "arrowcolor": "#2a3f5f",
           "arrowhead": 0,
           "arrowwidth": 1
          },
          "autotypenumbers": "strict",
          "coloraxis": {
           "colorbar": {
            "outlinewidth": 0,
            "ticks": ""
           }
          },
          "colorscale": {
           "diverging": [
            [
             0,
             "#8e0152"
            ],
            [
             0.1,
             "#c51b7d"
            ],
            [
             0.2,
             "#de77ae"
            ],
            [
             0.3,
             "#f1b6da"
            ],
            [
             0.4,
             "#fde0ef"
            ],
            [
             0.5,
             "#f7f7f7"
            ],
            [
             0.6,
             "#e6f5d0"
            ],
            [
             0.7,
             "#b8e186"
            ],
            [
             0.8,
             "#7fbc41"
            ],
            [
             0.9,
             "#4d9221"
            ],
            [
             1,
             "#276419"
            ]
           ],
           "sequential": [
            [
             0,
             "#0d0887"
            ],
            [
             0.1111111111111111,
             "#46039f"
            ],
            [
             0.2222222222222222,
             "#7201a8"
            ],
            [
             0.3333333333333333,
             "#9c179e"
            ],
            [
             0.4444444444444444,
             "#bd3786"
            ],
            [
             0.5555555555555556,
             "#d8576b"
            ],
            [
             0.6666666666666666,
             "#ed7953"
            ],
            [
             0.7777777777777778,
             "#fb9f3a"
            ],
            [
             0.8888888888888888,
             "#fdca26"
            ],
            [
             1,
             "#f0f921"
            ]
           ],
           "sequentialminus": [
            [
             0,
             "#0d0887"
            ],
            [
             0.1111111111111111,
             "#46039f"
            ],
            [
             0.2222222222222222,
             "#7201a8"
            ],
            [
             0.3333333333333333,
             "#9c179e"
            ],
            [
             0.4444444444444444,
             "#bd3786"
            ],
            [
             0.5555555555555556,
             "#d8576b"
            ],
            [
             0.6666666666666666,
             "#ed7953"
            ],
            [
             0.7777777777777778,
             "#fb9f3a"
            ],
            [
             0.8888888888888888,
             "#fdca26"
            ],
            [
             1,
             "#f0f921"
            ]
           ]
          },
          "colorway": [
           "#636efa",
           "#EF553B",
           "#00cc96",
           "#ab63fa",
           "#FFA15A",
           "#19d3f3",
           "#FF6692",
           "#B6E880",
           "#FF97FF",
           "#FECB52"
          ],
          "font": {
           "color": "#2a3f5f"
          },
          "geo": {
           "bgcolor": "white",
           "lakecolor": "white",
           "landcolor": "#E5ECF6",
           "showlakes": true,
           "showland": true,
           "subunitcolor": "white"
          },
          "hoverlabel": {
           "align": "left"
          },
          "hovermode": "closest",
          "mapbox": {
           "style": "light"
          },
          "paper_bgcolor": "white",
          "plot_bgcolor": "#E5ECF6",
          "polar": {
           "angularaxis": {
            "gridcolor": "white",
            "linecolor": "white",
            "ticks": ""
           },
           "bgcolor": "#E5ECF6",
           "radialaxis": {
            "gridcolor": "white",
            "linecolor": "white",
            "ticks": ""
           }
          },
          "scene": {
           "xaxis": {
            "backgroundcolor": "#E5ECF6",
            "gridcolor": "white",
            "gridwidth": 2,
            "linecolor": "white",
            "showbackground": true,
            "ticks": "",
            "zerolinecolor": "white"
           },
           "yaxis": {
            "backgroundcolor": "#E5ECF6",
            "gridcolor": "white",
            "gridwidth": 2,
            "linecolor": "white",
            "showbackground": true,
            "ticks": "",
            "zerolinecolor": "white"
           },
           "zaxis": {
            "backgroundcolor": "#E5ECF6",
            "gridcolor": "white",
            "gridwidth": 2,
            "linecolor": "white",
            "showbackground": true,
            "ticks": "",
            "zerolinecolor": "white"
           }
          },
          "shapedefaults": {
           "line": {
            "color": "#2a3f5f"
           }
          },
          "ternary": {
           "aaxis": {
            "gridcolor": "white",
            "linecolor": "white",
            "ticks": ""
           },
           "baxis": {
            "gridcolor": "white",
            "linecolor": "white",
            "ticks": ""
           },
           "bgcolor": "#E5ECF6",
           "caxis": {
            "gridcolor": "white",
            "linecolor": "white",
            "ticks": ""
           }
          },
          "title": {
           "x": 0.05
          },
          "xaxis": {
           "automargin": true,
           "gridcolor": "white",
           "linecolor": "white",
           "ticks": "",
           "title": {
            "standoff": 15
           },
           "zerolinecolor": "white",
           "zerolinewidth": 2
          },
          "yaxis": {
           "automargin": true,
           "gridcolor": "white",
           "linecolor": "white",
           "ticks": "",
           "title": {
            "standoff": 15
           },
           "zerolinecolor": "white",
           "zerolinewidth": 2
          }
         }
        },
        "title": {
         "text": "Trung bình số người chết trong mỗi vụ nổ súng",
         "x": 0.5,
         "xanchor": "center",
         "yanchor": "top"
        }
       }
      }
     },
     "metadata": {},
     "output_type": "display_data"
    }
   ],
   "source": [
    "fig = px.choropleth(data,\n",
    "                    locations = 'State_Code',\n",
    "                    hover_name = 'State_Name',\n",
    "                    color = 'Killed',\n",
    "                    locationmode = 'USA-states', \n",
    "                    scope = 'usa')\n",
    "\n",
    "fig.update_layout(\n",
    "    title={'text':'Trung bình số người chết trong mỗi vụ nổ súng',\n",
    "           'xanchor':'center',\n",
    "           'yanchor':'top',\n",
    "           'x':0.5})\n",
    "\n",
    "fig.show()"
   ]
  },
  {
   "attachments": {},
   "cell_type": "markdown",
   "metadata": {},
   "source": [
    "### **- Tháng xảy ra nổ súng nhiều nhất trên mỗi tiểu bang:**"
   ]
  },
  {
   "cell_type": "code",
   "execution_count": 42,
   "metadata": {},
   "outputs": [],
   "source": [
    "data = df.groupby(['State_Code', 'Month']).size()\n",
    "data = data.groupby(['State_Code']).idxmax()\n",
    "idx, values = zip(*data)\n",
    "data = pd.DataFrame(data = values, index = idx)\n",
    "data = data.reset_index()\n",
    "data = data.rename(columns={'index': 'State_Code', 0: 'Most Freq Month'})"
   ]
  },
  {
   "cell_type": "code",
   "execution_count": 43,
   "metadata": {},
   "outputs": [],
   "source": [
    "inv_us_state_to_abbrev = {v: k for k, v in us_state_to_abbrev.items()}\n",
    "data[\"State_Name\"] = data[\"State_Code\"].map(inv_us_state_to_abbrev)"
   ]
  },
  {
   "cell_type": "code",
   "execution_count": 44,
   "metadata": {},
   "outputs": [
    {
     "data": {
      "application/vnd.plotly.v1+json": {
       "config": {
        "plotlyServerURL": "https://plot.ly"
       },
       "data": [
        {
         "coloraxis": "coloraxis",
         "geo": "geo",
         "hovertemplate": "<b>%{hovertext}</b><br><br>State_Code=%{location}<br>Most Freq Month=%{z}<extra></extra>",
         "hovertext": [
          "Alaska",
          "Alabama",
          "Arkansas",
          "Arizona",
          "California",
          "Colorado",
          "Connecticut",
          "District of Columbia",
          "Delaware",
          "Florida",
          "Georgia",
          "Hawaii",
          "Iowa",
          "Idaho",
          "Illinois",
          "Indiana",
          "Kansas",
          "Kentucky",
          "Louisiana",
          "Massachusetts",
          "Maryland",
          "Maine",
          "Michigan",
          "Minnesota",
          "Missouri",
          "Mississippi",
          "Montana",
          "North Carolina",
          "North Dakota",
          "Nebraska",
          "New Hampshire",
          "New Jersey",
          "New Mexico",
          "Nevada",
          "New York",
          "Ohio",
          "Oklahoma",
          "Oregon",
          "Pennsylvania",
          "Rhode Island",
          "South Carolina",
          "South Dakota",
          "Tennessee",
          "Texas",
          "Utah",
          "Virginia",
          "Vermont",
          "Washington",
          "Wisconsin",
          "West Virginia",
          "Wyoming"
         ],
         "locationmode": "USA-states",
         "locations": [
          "AK",
          "AL",
          "AR",
          "AZ",
          "CA",
          "CO",
          "CT",
          "DC",
          "DE",
          "FL",
          "GA",
          "HI",
          "IA",
          "ID",
          "IL",
          "IN",
          "KS",
          "KY",
          "LA",
          "MA",
          "MD",
          "ME",
          "MI",
          "MN",
          "MO",
          "MS",
          "MT",
          "NC",
          "ND",
          "NE",
          "NH",
          "NJ",
          "NM",
          "NV",
          "NY",
          "OH",
          "OK",
          "OR",
          "PA",
          "RI",
          "SC",
          "SD",
          "TN",
          "TX",
          "UT",
          "VA",
          "VT",
          "WA",
          "WI",
          "WV",
          "WY"
         ],
         "name": "",
         "type": "choropleth",
         "z": [
          5,
          5,
          7,
          7,
          7,
          7,
          7,
          8,
          8,
          5,
          10,
          3,
          7,
          10,
          7,
          8,
          8,
          6,
          12,
          7,
          5,
          10,
          7,
          7,
          7,
          1,
          7,
          7,
          3,
          7,
          8,
          7,
          8,
          8,
          6,
          7,
          7,
          8,
          10,
          10,
          5,
          8,
          7,
          12,
          7,
          8,
          4,
          7,
          5,
          4,
          9
         ]
        }
       ],
       "layout": {
        "coloraxis": {
         "colorbar": {
          "title": {
           "text": "Most Freq Month"
          }
         },
         "colorscale": [
          [
           0,
           "#0d0887"
          ],
          [
           0.1111111111111111,
           "#46039f"
          ],
          [
           0.2222222222222222,
           "#7201a8"
          ],
          [
           0.3333333333333333,
           "#9c179e"
          ],
          [
           0.4444444444444444,
           "#bd3786"
          ],
          [
           0.5555555555555556,
           "#d8576b"
          ],
          [
           0.6666666666666666,
           "#ed7953"
          ],
          [
           0.7777777777777778,
           "#fb9f3a"
          ],
          [
           0.8888888888888888,
           "#fdca26"
          ],
          [
           1,
           "#f0f921"
          ]
         ]
        },
        "geo": {
         "center": {},
         "domain": {
          "x": [
           0,
           1
          ],
          "y": [
           0,
           1
          ]
         },
         "scope": "usa"
        },
        "legend": {
         "tracegroupgap": 0
        },
        "margin": {
         "t": 60
        },
        "template": {
         "data": {
          "bar": [
           {
            "error_x": {
             "color": "#2a3f5f"
            },
            "error_y": {
             "color": "#2a3f5f"
            },
            "marker": {
             "line": {
              "color": "#E5ECF6",
              "width": 0.5
             },
             "pattern": {
              "fillmode": "overlay",
              "size": 10,
              "solidity": 0.2
             }
            },
            "type": "bar"
           }
          ],
          "barpolar": [
           {
            "marker": {
             "line": {
              "color": "#E5ECF6",
              "width": 0.5
             },
             "pattern": {
              "fillmode": "overlay",
              "size": 10,
              "solidity": 0.2
             }
            },
            "type": "barpolar"
           }
          ],
          "carpet": [
           {
            "aaxis": {
             "endlinecolor": "#2a3f5f",
             "gridcolor": "white",
             "linecolor": "white",
             "minorgridcolor": "white",
             "startlinecolor": "#2a3f5f"
            },
            "baxis": {
             "endlinecolor": "#2a3f5f",
             "gridcolor": "white",
             "linecolor": "white",
             "minorgridcolor": "white",
             "startlinecolor": "#2a3f5f"
            },
            "type": "carpet"
           }
          ],
          "choropleth": [
           {
            "colorbar": {
             "outlinewidth": 0,
             "ticks": ""
            },
            "type": "choropleth"
           }
          ],
          "contour": [
           {
            "colorbar": {
             "outlinewidth": 0,
             "ticks": ""
            },
            "colorscale": [
             [
              0,
              "#0d0887"
             ],
             [
              0.1111111111111111,
              "#46039f"
             ],
             [
              0.2222222222222222,
              "#7201a8"
             ],
             [
              0.3333333333333333,
              "#9c179e"
             ],
             [
              0.4444444444444444,
              "#bd3786"
             ],
             [
              0.5555555555555556,
              "#d8576b"
             ],
             [
              0.6666666666666666,
              "#ed7953"
             ],
             [
              0.7777777777777778,
              "#fb9f3a"
             ],
             [
              0.8888888888888888,
              "#fdca26"
             ],
             [
              1,
              "#f0f921"
             ]
            ],
            "type": "contour"
           }
          ],
          "contourcarpet": [
           {
            "colorbar": {
             "outlinewidth": 0,
             "ticks": ""
            },
            "type": "contourcarpet"
           }
          ],
          "heatmap": [
           {
            "colorbar": {
             "outlinewidth": 0,
             "ticks": ""
            },
            "colorscale": [
             [
              0,
              "#0d0887"
             ],
             [
              0.1111111111111111,
              "#46039f"
             ],
             [
              0.2222222222222222,
              "#7201a8"
             ],
             [
              0.3333333333333333,
              "#9c179e"
             ],
             [
              0.4444444444444444,
              "#bd3786"
             ],
             [
              0.5555555555555556,
              "#d8576b"
             ],
             [
              0.6666666666666666,
              "#ed7953"
             ],
             [
              0.7777777777777778,
              "#fb9f3a"
             ],
             [
              0.8888888888888888,
              "#fdca26"
             ],
             [
              1,
              "#f0f921"
             ]
            ],
            "type": "heatmap"
           }
          ],
          "heatmapgl": [
           {
            "colorbar": {
             "outlinewidth": 0,
             "ticks": ""
            },
            "colorscale": [
             [
              0,
              "#0d0887"
             ],
             [
              0.1111111111111111,
              "#46039f"
             ],
             [
              0.2222222222222222,
              "#7201a8"
             ],
             [
              0.3333333333333333,
              "#9c179e"
             ],
             [
              0.4444444444444444,
              "#bd3786"
             ],
             [
              0.5555555555555556,
              "#d8576b"
             ],
             [
              0.6666666666666666,
              "#ed7953"
             ],
             [
              0.7777777777777778,
              "#fb9f3a"
             ],
             [
              0.8888888888888888,
              "#fdca26"
             ],
             [
              1,
              "#f0f921"
             ]
            ],
            "type": "heatmapgl"
           }
          ],
          "histogram": [
           {
            "marker": {
             "pattern": {
              "fillmode": "overlay",
              "size": 10,
              "solidity": 0.2
             }
            },
            "type": "histogram"
           }
          ],
          "histogram2d": [
           {
            "colorbar": {
             "outlinewidth": 0,
             "ticks": ""
            },
            "colorscale": [
             [
              0,
              "#0d0887"
             ],
             [
              0.1111111111111111,
              "#46039f"
             ],
             [
              0.2222222222222222,
              "#7201a8"
             ],
             [
              0.3333333333333333,
              "#9c179e"
             ],
             [
              0.4444444444444444,
              "#bd3786"
             ],
             [
              0.5555555555555556,
              "#d8576b"
             ],
             [
              0.6666666666666666,
              "#ed7953"
             ],
             [
              0.7777777777777778,
              "#fb9f3a"
             ],
             [
              0.8888888888888888,
              "#fdca26"
             ],
             [
              1,
              "#f0f921"
             ]
            ],
            "type": "histogram2d"
           }
          ],
          "histogram2dcontour": [
           {
            "colorbar": {
             "outlinewidth": 0,
             "ticks": ""
            },
            "colorscale": [
             [
              0,
              "#0d0887"
             ],
             [
              0.1111111111111111,
              "#46039f"
             ],
             [
              0.2222222222222222,
              "#7201a8"
             ],
             [
              0.3333333333333333,
              "#9c179e"
             ],
             [
              0.4444444444444444,
              "#bd3786"
             ],
             [
              0.5555555555555556,
              "#d8576b"
             ],
             [
              0.6666666666666666,
              "#ed7953"
             ],
             [
              0.7777777777777778,
              "#fb9f3a"
             ],
             [
              0.8888888888888888,
              "#fdca26"
             ],
             [
              1,
              "#f0f921"
             ]
            ],
            "type": "histogram2dcontour"
           }
          ],
          "mesh3d": [
           {
            "colorbar": {
             "outlinewidth": 0,
             "ticks": ""
            },
            "type": "mesh3d"
           }
          ],
          "parcoords": [
           {
            "line": {
             "colorbar": {
              "outlinewidth": 0,
              "ticks": ""
             }
            },
            "type": "parcoords"
           }
          ],
          "pie": [
           {
            "automargin": true,
            "type": "pie"
           }
          ],
          "scatter": [
           {
            "fillpattern": {
             "fillmode": "overlay",
             "size": 10,
             "solidity": 0.2
            },
            "type": "scatter"
           }
          ],
          "scatter3d": [
           {
            "line": {
             "colorbar": {
              "outlinewidth": 0,
              "ticks": ""
             }
            },
            "marker": {
             "colorbar": {
              "outlinewidth": 0,
              "ticks": ""
             }
            },
            "type": "scatter3d"
           }
          ],
          "scattercarpet": [
           {
            "marker": {
             "colorbar": {
              "outlinewidth": 0,
              "ticks": ""
             }
            },
            "type": "scattercarpet"
           }
          ],
          "scattergeo": [
           {
            "marker": {
             "colorbar": {
              "outlinewidth": 0,
              "ticks": ""
             }
            },
            "type": "scattergeo"
           }
          ],
          "scattergl": [
           {
            "marker": {
             "colorbar": {
              "outlinewidth": 0,
              "ticks": ""
             }
            },
            "type": "scattergl"
           }
          ],
          "scattermapbox": [
           {
            "marker": {
             "colorbar": {
              "outlinewidth": 0,
              "ticks": ""
             }
            },
            "type": "scattermapbox"
           }
          ],
          "scatterpolar": [
           {
            "marker": {
             "colorbar": {
              "outlinewidth": 0,
              "ticks": ""
             }
            },
            "type": "scatterpolar"
           }
          ],
          "scatterpolargl": [
           {
            "marker": {
             "colorbar": {
              "outlinewidth": 0,
              "ticks": ""
             }
            },
            "type": "scatterpolargl"
           }
          ],
          "scatterternary": [
           {
            "marker": {
             "colorbar": {
              "outlinewidth": 0,
              "ticks": ""
             }
            },
            "type": "scatterternary"
           }
          ],
          "surface": [
           {
            "colorbar": {
             "outlinewidth": 0,
             "ticks": ""
            },
            "colorscale": [
             [
              0,
              "#0d0887"
             ],
             [
              0.1111111111111111,
              "#46039f"
             ],
             [
              0.2222222222222222,
              "#7201a8"
             ],
             [
              0.3333333333333333,
              "#9c179e"
             ],
             [
              0.4444444444444444,
              "#bd3786"
             ],
             [
              0.5555555555555556,
              "#d8576b"
             ],
             [
              0.6666666666666666,
              "#ed7953"
             ],
             [
              0.7777777777777778,
              "#fb9f3a"
             ],
             [
              0.8888888888888888,
              "#fdca26"
             ],
             [
              1,
              "#f0f921"
             ]
            ],
            "type": "surface"
           }
          ],
          "table": [
           {
            "cells": {
             "fill": {
              "color": "#EBF0F8"
             },
             "line": {
              "color": "white"
             }
            },
            "header": {
             "fill": {
              "color": "#C8D4E3"
             },
             "line": {
              "color": "white"
             }
            },
            "type": "table"
           }
          ]
         },
         "layout": {
          "annotationdefaults": {
           "arrowcolor": "#2a3f5f",
           "arrowhead": 0,
           "arrowwidth": 1
          },
          "autotypenumbers": "strict",
          "coloraxis": {
           "colorbar": {
            "outlinewidth": 0,
            "ticks": ""
           }
          },
          "colorscale": {
           "diverging": [
            [
             0,
             "#8e0152"
            ],
            [
             0.1,
             "#c51b7d"
            ],
            [
             0.2,
             "#de77ae"
            ],
            [
             0.3,
             "#f1b6da"
            ],
            [
             0.4,
             "#fde0ef"
            ],
            [
             0.5,
             "#f7f7f7"
            ],
            [
             0.6,
             "#e6f5d0"
            ],
            [
             0.7,
             "#b8e186"
            ],
            [
             0.8,
             "#7fbc41"
            ],
            [
             0.9,
             "#4d9221"
            ],
            [
             1,
             "#276419"
            ]
           ],
           "sequential": [
            [
             0,
             "#0d0887"
            ],
            [
             0.1111111111111111,
             "#46039f"
            ],
            [
             0.2222222222222222,
             "#7201a8"
            ],
            [
             0.3333333333333333,
             "#9c179e"
            ],
            [
             0.4444444444444444,
             "#bd3786"
            ],
            [
             0.5555555555555556,
             "#d8576b"
            ],
            [
             0.6666666666666666,
             "#ed7953"
            ],
            [
             0.7777777777777778,
             "#fb9f3a"
            ],
            [
             0.8888888888888888,
             "#fdca26"
            ],
            [
             1,
             "#f0f921"
            ]
           ],
           "sequentialminus": [
            [
             0,
             "#0d0887"
            ],
            [
             0.1111111111111111,
             "#46039f"
            ],
            [
             0.2222222222222222,
             "#7201a8"
            ],
            [
             0.3333333333333333,
             "#9c179e"
            ],
            [
             0.4444444444444444,
             "#bd3786"
            ],
            [
             0.5555555555555556,
             "#d8576b"
            ],
            [
             0.6666666666666666,
             "#ed7953"
            ],
            [
             0.7777777777777778,
             "#fb9f3a"
            ],
            [
             0.8888888888888888,
             "#fdca26"
            ],
            [
             1,
             "#f0f921"
            ]
           ]
          },
          "colorway": [
           "#636efa",
           "#EF553B",
           "#00cc96",
           "#ab63fa",
           "#FFA15A",
           "#19d3f3",
           "#FF6692",
           "#B6E880",
           "#FF97FF",
           "#FECB52"
          ],
          "font": {
           "color": "#2a3f5f"
          },
          "geo": {
           "bgcolor": "white",
           "lakecolor": "white",
           "landcolor": "#E5ECF6",
           "showlakes": true,
           "showland": true,
           "subunitcolor": "white"
          },
          "hoverlabel": {
           "align": "left"
          },
          "hovermode": "closest",
          "mapbox": {
           "style": "light"
          },
          "paper_bgcolor": "white",
          "plot_bgcolor": "#E5ECF6",
          "polar": {
           "angularaxis": {
            "gridcolor": "white",
            "linecolor": "white",
            "ticks": ""
           },
           "bgcolor": "#E5ECF6",
           "radialaxis": {
            "gridcolor": "white",
            "linecolor": "white",
            "ticks": ""
           }
          },
          "scene": {
           "xaxis": {
            "backgroundcolor": "#E5ECF6",
            "gridcolor": "white",
            "gridwidth": 2,
            "linecolor": "white",
            "showbackground": true,
            "ticks": "",
            "zerolinecolor": "white"
           },
           "yaxis": {
            "backgroundcolor": "#E5ECF6",
            "gridcolor": "white",
            "gridwidth": 2,
            "linecolor": "white",
            "showbackground": true,
            "ticks": "",
            "zerolinecolor": "white"
           },
           "zaxis": {
            "backgroundcolor": "#E5ECF6",
            "gridcolor": "white",
            "gridwidth": 2,
            "linecolor": "white",
            "showbackground": true,
            "ticks": "",
            "zerolinecolor": "white"
           }
          },
          "shapedefaults": {
           "line": {
            "color": "#2a3f5f"
           }
          },
          "ternary": {
           "aaxis": {
            "gridcolor": "white",
            "linecolor": "white",
            "ticks": ""
           },
           "baxis": {
            "gridcolor": "white",
            "linecolor": "white",
            "ticks": ""
           },
           "bgcolor": "#E5ECF6",
           "caxis": {
            "gridcolor": "white",
            "linecolor": "white",
            "ticks": ""
           }
          },
          "title": {
           "x": 0.05
          },
          "xaxis": {
           "automargin": true,
           "gridcolor": "white",
           "linecolor": "white",
           "ticks": "",
           "title": {
            "standoff": 15
           },
           "zerolinecolor": "white",
           "zerolinewidth": 2
          },
          "yaxis": {
           "automargin": true,
           "gridcolor": "white",
           "linecolor": "white",
           "ticks": "",
           "title": {
            "standoff": 15
           },
           "zerolinecolor": "white",
           "zerolinewidth": 2
          }
         }
        }
       }
      }
     },
     "metadata": {},
     "output_type": "display_data"
    }
   ],
   "source": [
    "fig = px.choropleth(data,\n",
    "                    locations = 'State_Code',\n",
    "                    hover_name = 'State_Name',\n",
    "                    color = 'Most Freq Month',\n",
    "                    locationmode = 'USA-states', \n",
    "                    scope = 'usa')\n",
    "fig.show()"
   ]
  },
  {
   "attachments": {},
   "cell_type": "markdown",
   "metadata": {},
   "source": [
    "<h2 style='color:#6ac61f'> Câu hỏi 4: Xử lý các outliers như thế nào? </h2>\n",
    "\n",
    "- Ở mục 3 của phần II, chúng ta đã xác định được các outliers của cột `Total`. Bây giờ ta sẽ tiến hành xử lý các outliers này.\n",
    "\n",
    "#### **Xử lý các outlier (Trimming method)**\n",
    "\n",
    "- Xác định giới hạn trên và dưới."
   ]
  },
  {
   "cell_type": "code",
   "execution_count": 45,
   "metadata": {},
   "outputs": [],
   "source": [
    "norm_upper_limit = df.Total.mean() + 3 * df.Total.std()\n",
    "norm_lower_limit = df.Total.mean() - 3 * df.Total.std()"
   ]
  },
  {
   "attachments": {},
   "cell_type": "markdown",
   "metadata": {},
   "source": [
    "- Loại bỏ các outliers đi và chúng ta chỉ có phân phối theo 3 độ lệch chuẩn"
   ]
  },
  {
   "cell_type": "code",
   "execution_count": 46,
   "metadata": {},
   "outputs": [],
   "source": [
    "df_normal_new = df[(df.Total > norm_lower_limit) & ( df.Total < norm_upper_limit)]"
   ]
  },
  {
   "attachments": {},
   "cell_type": "markdown",
   "metadata": {},
   "source": [
    "- Kích thước tập dữ liệu trước và sau khi xóa các outliers."
   ]
  },
  {
   "cell_type": "code",
   "execution_count": 47,
   "metadata": {},
   "outputs": [
    {
     "name": "stdout",
     "output_type": "stream",
     "text": [
      "Before Triming Size: 418104\n",
      "After Triming Size: 416487\n"
     ]
    }
   ],
   "source": [
    "print(\"Before Triming Size:\", df.shape[0])\n",
    "print(\"After Triming Size:\", df_normal_new.shape[0])"
   ]
  },
  {
   "attachments": {},
   "cell_type": "markdown",
   "metadata": {},
   "source": [
    "- Trực quan hóa:"
   ]
  },
  {
   "cell_type": "code",
   "execution_count": 48,
   "metadata": {},
   "outputs": [
    {
     "data": {
      "image/png": "[encoded data removed]",
      "text/plain": [
       "<Figure size 864x576 with 2 Axes>"
      ]
     },
     "metadata": {},
     "output_type": "display_data"
    },
    {
     "data": {
      "image/png": "[encoded data removed]",
      "text/plain": [
       "<Figure size 864x576 with 2 Axes>"
      ]
     },
     "metadata": {},
     "output_type": "display_data"
    }
   ],
   "source": [
    "# Before Trimming\n",
    "plt.figure(figsize = (12, 8))\n",
    "plt.suptitle(\"Distribution Before Trimming\", fontsize = 18)\n",
    "plt.subplot(1, 2, 1)\n",
    "sns.kdeplot(data = df['Total'].values)\n",
    "plt.subplot(1, 2, 2)\n",
    "sns.boxplot(data = df['Total'].values, palette = \"magma\")\n",
    "\n",
    "# After Trimming\n",
    "plt.figure(figsize = (12, 8))\n",
    "plt.suptitle(\"Distribution After Trimming\", fontsize = 18)\n",
    "plt.subplot(1, 2, 1)\n",
    "sns.kdeplot(data = df_normal_new['Total'].values)\n",
    "plt.subplot(1, 2, 2)\n",
    "sns.boxplot(data = df_normal_new['Total'].values, palette = \"magma\")\n",
    "plt.show()"
   ]
  }
 ],
 "metadata": {
  "kernelspec": {
   "display_name": "Python 3",
   "language": "python",
   "name": "python3"
  },
  "language_info": {
   "codemirror_mode": {
    "name": "ipython",
    "version": 3
   },
   "file_extension": ".py",
   "mimetype": "text/x-python",
   "name": "python",
   "nbconvert_exporter": "python",
   "pygments_lexer": "ipython3",
   "version": "3.10.0"
  },
  "orig_nbformat": 4
 },
 "nbformat": 4,
 "nbformat_minor": 2
}
